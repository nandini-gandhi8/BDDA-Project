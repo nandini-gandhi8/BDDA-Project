{
 "cells": [
  {
   "cell_type": "code",
   "execution_count": 1,
   "id": "a2913724",
   "metadata": {},
   "outputs": [],
   "source": [
    "import numpy as np # linear algebra\n",
    "import pandas as pd # data processing, CSV file I/O (e.g. pd.read_csv)\n",
    "import matplotlib.pyplot as plt\n",
    "import seaborn as sns\n",
    "%matplotlib inline\n",
    "\n",
    "import xgboost as xgb\n",
    "from sklearn.metrics import mean_squared_error as mse\n",
    "from sklearn.model_selection import train_test_split\n",
    "\n",
    "from sklearn.pipeline import Pipeline\n",
    "from sklearn.preprocessing import StandardScaler\n",
    "\n",
    "# Input data files are available in the read-only \"../input/\" directory\n",
    "# For example, running this (by clicking run or pressing Shift+Enter) will list all files under the input directory"
   ]
  },
  {
   "cell_type": "code",
   "execution_count": 2,
   "id": "57127ebc",
   "metadata": {},
   "outputs": [],
   "source": [
    "train = pd.read_csv(\"C:\\\\Users\\\\Nehal\\\\Downloads\\\\new-york-city-taxi-fare-prediction\\\\train.csv\", nrows = 1000000, parse_dates=[\"pickup_datetime\"])\n",
    "test = pd.read_csv(\"C:\\\\Users\\\\Nehal\\\\Downloads\\\\new-york-city-taxi-fare-prediction\\\\test.csv\")"
   ]
  },
  {
   "cell_type": "code",
   "execution_count": 5,
   "id": "091a031f",
   "metadata": {},
   "outputs": [],
   "source": [
    "train.drop('key', axis=1, inplace=True)"
   ]
  },
  {
   "cell_type": "code",
   "execution_count": 7,
   "id": "06eabca1",
   "metadata": {},
   "outputs": [
    {
     "data": {
      "text/html": [
       "<div>\n",
       "<style scoped>\n",
       "    .dataframe tbody tr th:only-of-type {\n",
       "        vertical-align: middle;\n",
       "    }\n",
       "\n",
       "    .dataframe tbody tr th {\n",
       "        vertical-align: top;\n",
       "    }\n",
       "\n",
       "    .dataframe thead th {\n",
       "        text-align: right;\n",
       "    }\n",
       "</style>\n",
       "<table border=\"1\" class=\"dataframe\">\n",
       "  <thead>\n",
       "    <tr style=\"text-align: right;\">\n",
       "      <th></th>\n",
       "      <th>fare_amount</th>\n",
       "      <th>pickup_datetime</th>\n",
       "      <th>pickup_longitude</th>\n",
       "      <th>pickup_latitude</th>\n",
       "      <th>dropoff_longitude</th>\n",
       "      <th>dropoff_latitude</th>\n",
       "      <th>passenger_count</th>\n",
       "    </tr>\n",
       "  </thead>\n",
       "  <tbody>\n",
       "    <tr>\n",
       "      <th>0</th>\n",
       "      <td>4.5</td>\n",
       "      <td>2009-06-15 17:26:21+00:00</td>\n",
       "      <td>-73.844311</td>\n",
       "      <td>40.721319</td>\n",
       "      <td>-73.841610</td>\n",
       "      <td>40.712278</td>\n",
       "      <td>1</td>\n",
       "    </tr>\n",
       "    <tr>\n",
       "      <th>1</th>\n",
       "      <td>16.9</td>\n",
       "      <td>2010-01-05 16:52:16+00:00</td>\n",
       "      <td>-74.016048</td>\n",
       "      <td>40.711303</td>\n",
       "      <td>-73.979268</td>\n",
       "      <td>40.782004</td>\n",
       "      <td>1</td>\n",
       "    </tr>\n",
       "    <tr>\n",
       "      <th>2</th>\n",
       "      <td>5.7</td>\n",
       "      <td>2011-08-18 00:35:00+00:00</td>\n",
       "      <td>-73.982738</td>\n",
       "      <td>40.761270</td>\n",
       "      <td>-73.991242</td>\n",
       "      <td>40.750562</td>\n",
       "      <td>2</td>\n",
       "    </tr>\n",
       "    <tr>\n",
       "      <th>3</th>\n",
       "      <td>7.7</td>\n",
       "      <td>2012-04-21 04:30:42+00:00</td>\n",
       "      <td>-73.987130</td>\n",
       "      <td>40.733143</td>\n",
       "      <td>-73.991567</td>\n",
       "      <td>40.758092</td>\n",
       "      <td>1</td>\n",
       "    </tr>\n",
       "    <tr>\n",
       "      <th>4</th>\n",
       "      <td>5.3</td>\n",
       "      <td>2010-03-09 07:51:00+00:00</td>\n",
       "      <td>-73.968095</td>\n",
       "      <td>40.768008</td>\n",
       "      <td>-73.956655</td>\n",
       "      <td>40.783762</td>\n",
       "      <td>1</td>\n",
       "    </tr>\n",
       "  </tbody>\n",
       "</table>\n",
       "</div>"
      ],
      "text/plain": [
       "   fare_amount           pickup_datetime  pickup_longitude  pickup_latitude  \\\n",
       "0          4.5 2009-06-15 17:26:21+00:00        -73.844311        40.721319   \n",
       "1         16.9 2010-01-05 16:52:16+00:00        -74.016048        40.711303   \n",
       "2          5.7 2011-08-18 00:35:00+00:00        -73.982738        40.761270   \n",
       "3          7.7 2012-04-21 04:30:42+00:00        -73.987130        40.733143   \n",
       "4          5.3 2010-03-09 07:51:00+00:00        -73.968095        40.768008   \n",
       "\n",
       "   dropoff_longitude  dropoff_latitude  passenger_count  \n",
       "0         -73.841610         40.712278                1  \n",
       "1         -73.979268         40.782004                1  \n",
       "2         -73.991242         40.750562                2  \n",
       "3         -73.991567         40.758092                1  \n",
       "4         -73.956655         40.783762                1  "
      ]
     },
     "execution_count": 7,
     "metadata": {},
     "output_type": "execute_result"
    }
   ],
   "source": [
    "train.head()"
   ]
  },
  {
   "cell_type": "code",
   "execution_count": 8,
   "id": "c88eea77",
   "metadata": {},
   "outputs": [
    {
     "data": {
      "text/html": [
       "<div>\n",
       "<style scoped>\n",
       "    .dataframe tbody tr th:only-of-type {\n",
       "        vertical-align: middle;\n",
       "    }\n",
       "\n",
       "    .dataframe tbody tr th {\n",
       "        vertical-align: top;\n",
       "    }\n",
       "\n",
       "    .dataframe thead th {\n",
       "        text-align: right;\n",
       "    }\n",
       "</style>\n",
       "<table border=\"1\" class=\"dataframe\">\n",
       "  <thead>\n",
       "    <tr style=\"text-align: right;\">\n",
       "      <th></th>\n",
       "      <th>key</th>\n",
       "      <th>pickup_datetime</th>\n",
       "      <th>pickup_longitude</th>\n",
       "      <th>pickup_latitude</th>\n",
       "      <th>dropoff_longitude</th>\n",
       "      <th>dropoff_latitude</th>\n",
       "      <th>passenger_count</th>\n",
       "    </tr>\n",
       "  </thead>\n",
       "  <tbody>\n",
       "    <tr>\n",
       "      <th>0</th>\n",
       "      <td>2015-01-27 13:08:24.0000002</td>\n",
       "      <td>2015-01-27 13:08:24 UTC</td>\n",
       "      <td>-73.973320</td>\n",
       "      <td>40.763805</td>\n",
       "      <td>-73.981430</td>\n",
       "      <td>40.743835</td>\n",
       "      <td>1</td>\n",
       "    </tr>\n",
       "    <tr>\n",
       "      <th>1</th>\n",
       "      <td>2015-01-27 13:08:24.0000003</td>\n",
       "      <td>2015-01-27 13:08:24 UTC</td>\n",
       "      <td>-73.986862</td>\n",
       "      <td>40.719383</td>\n",
       "      <td>-73.998886</td>\n",
       "      <td>40.739201</td>\n",
       "      <td>1</td>\n",
       "    </tr>\n",
       "    <tr>\n",
       "      <th>2</th>\n",
       "      <td>2011-10-08 11:53:44.0000002</td>\n",
       "      <td>2011-10-08 11:53:44 UTC</td>\n",
       "      <td>-73.982524</td>\n",
       "      <td>40.751260</td>\n",
       "      <td>-73.979654</td>\n",
       "      <td>40.746139</td>\n",
       "      <td>1</td>\n",
       "    </tr>\n",
       "    <tr>\n",
       "      <th>3</th>\n",
       "      <td>2012-12-01 21:12:12.0000002</td>\n",
       "      <td>2012-12-01 21:12:12 UTC</td>\n",
       "      <td>-73.981160</td>\n",
       "      <td>40.767807</td>\n",
       "      <td>-73.990448</td>\n",
       "      <td>40.751635</td>\n",
       "      <td>1</td>\n",
       "    </tr>\n",
       "    <tr>\n",
       "      <th>4</th>\n",
       "      <td>2012-12-01 21:12:12.0000003</td>\n",
       "      <td>2012-12-01 21:12:12 UTC</td>\n",
       "      <td>-73.966046</td>\n",
       "      <td>40.789775</td>\n",
       "      <td>-73.988565</td>\n",
       "      <td>40.744427</td>\n",
       "      <td>1</td>\n",
       "    </tr>\n",
       "  </tbody>\n",
       "</table>\n",
       "</div>"
      ],
      "text/plain": [
       "                           key          pickup_datetime  pickup_longitude  \\\n",
       "0  2015-01-27 13:08:24.0000002  2015-01-27 13:08:24 UTC        -73.973320   \n",
       "1  2015-01-27 13:08:24.0000003  2015-01-27 13:08:24 UTC        -73.986862   \n",
       "2  2011-10-08 11:53:44.0000002  2011-10-08 11:53:44 UTC        -73.982524   \n",
       "3  2012-12-01 21:12:12.0000002  2012-12-01 21:12:12 UTC        -73.981160   \n",
       "4  2012-12-01 21:12:12.0000003  2012-12-01 21:12:12 UTC        -73.966046   \n",
       "\n",
       "   pickup_latitude  dropoff_longitude  dropoff_latitude  passenger_count  \n",
       "0        40.763805         -73.981430         40.743835                1  \n",
       "1        40.719383         -73.998886         40.739201                1  \n",
       "2        40.751260         -73.979654         40.746139                1  \n",
       "3        40.767807         -73.990448         40.751635                1  \n",
       "4        40.789775         -73.988565         40.744427                1  "
      ]
     },
     "execution_count": 8,
     "metadata": {},
     "output_type": "execute_result"
    }
   ],
   "source": [
    "test.head()"
   ]
  },
  {
   "cell_type": "code",
   "execution_count": 9,
   "id": "e78a888a",
   "metadata": {},
   "outputs": [
    {
     "data": {
      "text/html": [
       "<div>\n",
       "<style scoped>\n",
       "    .dataframe tbody tr th:only-of-type {\n",
       "        vertical-align: middle;\n",
       "    }\n",
       "\n",
       "    .dataframe tbody tr th {\n",
       "        vertical-align: top;\n",
       "    }\n",
       "\n",
       "    .dataframe thead th {\n",
       "        text-align: right;\n",
       "    }\n",
       "</style>\n",
       "<table border=\"1\" class=\"dataframe\">\n",
       "  <thead>\n",
       "    <tr style=\"text-align: right;\">\n",
       "      <th></th>\n",
       "      <th>pickup_longitude</th>\n",
       "      <th>pickup_latitude</th>\n",
       "      <th>dropoff_longitude</th>\n",
       "      <th>dropoff_latitude</th>\n",
       "      <th>passenger_count</th>\n",
       "    </tr>\n",
       "  </thead>\n",
       "  <tbody>\n",
       "    <tr>\n",
       "      <th>count</th>\n",
       "      <td>9914.000000</td>\n",
       "      <td>9914.000000</td>\n",
       "      <td>9914.000000</td>\n",
       "      <td>9914.000000</td>\n",
       "      <td>9914.000000</td>\n",
       "    </tr>\n",
       "    <tr>\n",
       "      <th>mean</th>\n",
       "      <td>-73.974722</td>\n",
       "      <td>40.751041</td>\n",
       "      <td>-73.973657</td>\n",
       "      <td>40.751743</td>\n",
       "      <td>1.671273</td>\n",
       "    </tr>\n",
       "    <tr>\n",
       "      <th>std</th>\n",
       "      <td>0.042774</td>\n",
       "      <td>0.033541</td>\n",
       "      <td>0.039072</td>\n",
       "      <td>0.035435</td>\n",
       "      <td>1.278747</td>\n",
       "    </tr>\n",
       "    <tr>\n",
       "      <th>min</th>\n",
       "      <td>-74.252193</td>\n",
       "      <td>40.573143</td>\n",
       "      <td>-74.263242</td>\n",
       "      <td>40.568973</td>\n",
       "      <td>1.000000</td>\n",
       "    </tr>\n",
       "    <tr>\n",
       "      <th>25%</th>\n",
       "      <td>-73.992501</td>\n",
       "      <td>40.736125</td>\n",
       "      <td>-73.991247</td>\n",
       "      <td>40.735254</td>\n",
       "      <td>1.000000</td>\n",
       "    </tr>\n",
       "    <tr>\n",
       "      <th>50%</th>\n",
       "      <td>-73.982326</td>\n",
       "      <td>40.753051</td>\n",
       "      <td>-73.980015</td>\n",
       "      <td>40.754065</td>\n",
       "      <td>1.000000</td>\n",
       "    </tr>\n",
       "    <tr>\n",
       "      <th>75%</th>\n",
       "      <td>-73.968013</td>\n",
       "      <td>40.767113</td>\n",
       "      <td>-73.964059</td>\n",
       "      <td>40.768757</td>\n",
       "      <td>2.000000</td>\n",
       "    </tr>\n",
       "    <tr>\n",
       "      <th>max</th>\n",
       "      <td>-72.986532</td>\n",
       "      <td>41.709555</td>\n",
       "      <td>-72.990963</td>\n",
       "      <td>41.696683</td>\n",
       "      <td>6.000000</td>\n",
       "    </tr>\n",
       "  </tbody>\n",
       "</table>\n",
       "</div>"
      ],
      "text/plain": [
       "       pickup_longitude  pickup_latitude  dropoff_longitude  dropoff_latitude  \\\n",
       "count       9914.000000      9914.000000        9914.000000       9914.000000   \n",
       "mean         -73.974722        40.751041         -73.973657         40.751743   \n",
       "std            0.042774         0.033541           0.039072          0.035435   \n",
       "min          -74.252193        40.573143         -74.263242         40.568973   \n",
       "25%          -73.992501        40.736125         -73.991247         40.735254   \n",
       "50%          -73.982326        40.753051         -73.980015         40.754065   \n",
       "75%          -73.968013        40.767113         -73.964059         40.768757   \n",
       "max          -72.986532        41.709555         -72.990963         41.696683   \n",
       "\n",
       "       passenger_count  \n",
       "count      9914.000000  \n",
       "mean          1.671273  \n",
       "std           1.278747  \n",
       "min           1.000000  \n",
       "25%           1.000000  \n",
       "50%           1.000000  \n",
       "75%           2.000000  \n",
       "max           6.000000  "
      ]
     },
     "execution_count": 9,
     "metadata": {},
     "output_type": "execute_result"
    }
   ],
   "source": [
    "test.describe()"
   ]
  },
  {
   "cell_type": "code",
   "execution_count": 10,
   "id": "06347996",
   "metadata": {},
   "outputs": [
    {
     "data": {
      "text/plain": [
       "fare_amount                      float64\n",
       "pickup_datetime      datetime64[ns, UTC]\n",
       "pickup_longitude                 float64\n",
       "pickup_latitude                  float64\n",
       "dropoff_longitude                float64\n",
       "dropoff_latitude                 float64\n",
       "passenger_count                    int64\n",
       "dtype: object"
      ]
     },
     "execution_count": 10,
     "metadata": {},
     "output_type": "execute_result"
    }
   ],
   "source": [
    "train.dtypes"
   ]
  },
  {
   "cell_type": "code",
   "execution_count": 11,
   "id": "5b0cdeba",
   "metadata": {},
   "outputs": [
    {
     "data": {
      "text/plain": [
       "fare_amount           0\n",
       "pickup_datetime       0\n",
       "pickup_longitude      0\n",
       "pickup_latitude       0\n",
       "dropoff_longitude    10\n",
       "dropoff_latitude     10\n",
       "passenger_count       0\n",
       "dtype: int64"
      ]
     },
     "execution_count": 11,
     "metadata": {},
     "output_type": "execute_result"
    }
   ],
   "source": [
    "train.isna().sum()"
   ]
  },
  {
   "cell_type": "code",
   "execution_count": 12,
   "id": "a6e63290",
   "metadata": {},
   "outputs": [
    {
     "data": {
      "text/html": [
       "<div>\n",
       "<style scoped>\n",
       "    .dataframe tbody tr th:only-of-type {\n",
       "        vertical-align: middle;\n",
       "    }\n",
       "\n",
       "    .dataframe tbody tr th {\n",
       "        vertical-align: top;\n",
       "    }\n",
       "\n",
       "    .dataframe thead th {\n",
       "        text-align: right;\n",
       "    }\n",
       "</style>\n",
       "<table border=\"1\" class=\"dataframe\">\n",
       "  <thead>\n",
       "    <tr style=\"text-align: right;\">\n",
       "      <th></th>\n",
       "      <th>fare_amount</th>\n",
       "      <th>pickup_longitude</th>\n",
       "      <th>pickup_latitude</th>\n",
       "      <th>dropoff_longitude</th>\n",
       "      <th>dropoff_latitude</th>\n",
       "      <th>passenger_count</th>\n",
       "    </tr>\n",
       "  </thead>\n",
       "  <tbody>\n",
       "    <tr>\n",
       "      <th>count</th>\n",
       "      <td>1000000.00000</td>\n",
       "      <td>1000000.00000</td>\n",
       "      <td>1000000.00000</td>\n",
       "      <td>999990.00000</td>\n",
       "      <td>999990.00000</td>\n",
       "      <td>1000000.00000</td>\n",
       "    </tr>\n",
       "    <tr>\n",
       "      <th>mean</th>\n",
       "      <td>11.34808</td>\n",
       "      <td>-72.52664</td>\n",
       "      <td>39.92901</td>\n",
       "      <td>-72.52786</td>\n",
       "      <td>39.91995</td>\n",
       "      <td>1.68492</td>\n",
       "    </tr>\n",
       "    <tr>\n",
       "      <th>std</th>\n",
       "      <td>9.82209</td>\n",
       "      <td>12.05794</td>\n",
       "      <td>7.62615</td>\n",
       "      <td>11.32449</td>\n",
       "      <td>8.20142</td>\n",
       "      <td>1.32391</td>\n",
       "    </tr>\n",
       "    <tr>\n",
       "      <th>min</th>\n",
       "      <td>-44.90000</td>\n",
       "      <td>-3377.68093</td>\n",
       "      <td>-3116.28538</td>\n",
       "      <td>-3383.29661</td>\n",
       "      <td>-3114.33857</td>\n",
       "      <td>0.00000</td>\n",
       "    </tr>\n",
       "    <tr>\n",
       "      <th>25%</th>\n",
       "      <td>6.00000</td>\n",
       "      <td>-73.99206</td>\n",
       "      <td>40.73497</td>\n",
       "      <td>-73.99138</td>\n",
       "      <td>40.73405</td>\n",
       "      <td>1.00000</td>\n",
       "    </tr>\n",
       "    <tr>\n",
       "      <th>50%</th>\n",
       "      <td>8.50000</td>\n",
       "      <td>-73.98179</td>\n",
       "      <td>40.75270</td>\n",
       "      <td>-73.98014</td>\n",
       "      <td>40.75317</td>\n",
       "      <td>1.00000</td>\n",
       "    </tr>\n",
       "    <tr>\n",
       "      <th>75%</th>\n",
       "      <td>12.50000</td>\n",
       "      <td>-73.96709</td>\n",
       "      <td>40.76715</td>\n",
       "      <td>-73.96365</td>\n",
       "      <td>40.76813</td>\n",
       "      <td>2.00000</td>\n",
       "    </tr>\n",
       "    <tr>\n",
       "      <th>max</th>\n",
       "      <td>500.00000</td>\n",
       "      <td>2522.27133</td>\n",
       "      <td>2621.62843</td>\n",
       "      <td>45.58162</td>\n",
       "      <td>1651.55343</td>\n",
       "      <td>208.00000</td>\n",
       "    </tr>\n",
       "  </tbody>\n",
       "</table>\n",
       "</div>"
      ],
      "text/plain": [
       "        fare_amount  pickup_longitude  pickup_latitude  dropoff_longitude  \\\n",
       "count 1000000.00000     1000000.00000    1000000.00000       999990.00000   \n",
       "mean       11.34808         -72.52664         39.92901          -72.52786   \n",
       "std         9.82209          12.05794          7.62615           11.32449   \n",
       "min       -44.90000       -3377.68093      -3116.28538        -3383.29661   \n",
       "25%         6.00000         -73.99206         40.73497          -73.99138   \n",
       "50%         8.50000         -73.98179         40.75270          -73.98014   \n",
       "75%        12.50000         -73.96709         40.76715          -73.96365   \n",
       "max       500.00000        2522.27133       2621.62843           45.58162   \n",
       "\n",
       "       dropoff_latitude  passenger_count  \n",
       "count      999990.00000    1000000.00000  \n",
       "mean           39.91995          1.68492  \n",
       "std             8.20142          1.32391  \n",
       "min         -3114.33857          0.00000  \n",
       "25%            40.73405          1.00000  \n",
       "50%            40.75317          1.00000  \n",
       "75%            40.76813          2.00000  \n",
       "max          1651.55343        208.00000  "
      ]
     },
     "execution_count": 12,
     "metadata": {},
     "output_type": "execute_result"
    }
   ],
   "source": [
    "pd.set_option('display.float_format', lambda x: '%.5f' % x)\n",
    "train.describe()"
   ]
  },
  {
   "cell_type": "code",
   "execution_count": 13,
   "id": "c9d05abc",
   "metadata": {},
   "outputs": [
    {
     "data": {
      "text/plain": [
       "38"
      ]
     },
     "execution_count": 13,
     "metadata": {},
     "output_type": "execute_result"
    }
   ],
   "source": [
    "(train['fare_amount'] < 0).sum()"
   ]
  },
  {
   "cell_type": "code",
   "execution_count": 15,
   "id": "455b05c6",
   "metadata": {},
   "outputs": [
    {
     "data": {
      "text/plain": [
       "15"
      ]
     },
     "execution_count": 15,
     "metadata": {},
     "output_type": "execute_result"
    }
   ],
   "source": [
    "((train['pickup_longitude'] < -180) | (train['pickup_longitude'] > 180)).sum()"
   ]
  },
  {
   "cell_type": "code",
   "execution_count": 16,
   "id": "b0744325",
   "metadata": {},
   "outputs": [
    {
     "data": {
      "text/plain": [
       "12"
      ]
     },
     "execution_count": 16,
     "metadata": {},
     "output_type": "execute_result"
    }
   ],
   "source": [
    "((train['pickup_latitude'] < -90) | (train['pickup_latitude'] > 90)).sum()"
   ]
  },
  {
   "cell_type": "code",
   "execution_count": 17,
   "id": "9e46805b",
   "metadata": {},
   "outputs": [
    {
     "data": {
      "text/plain": [
       "3566"
      ]
     },
     "execution_count": 17,
     "metadata": {},
     "output_type": "execute_result"
    }
   ],
   "source": [
    "((train['passenger_count'] == 0) | (train['passenger_count'] > 6)).sum()"
   ]
  },
  {
   "cell_type": "code",
   "execution_count": 18,
   "id": "60974e36",
   "metadata": {},
   "outputs": [
    {
     "data": {
      "text/plain": [
       "1"
      ]
     },
     "execution_count": 18,
     "metadata": {},
     "output_type": "execute_result"
    }
   ],
   "source": [
    "(train['passenger_count'] > 6).sum()"
   ]
  },
  {
   "cell_type": "code",
   "execution_count": 19,
   "id": "1db728d8",
   "metadata": {},
   "outputs": [
    {
     "name": "stdout",
     "output_type": "stream",
     "text": [
      "Train Passenger count equals 0:  3565\n",
      "Test Passenger count equals 0:  0\n"
     ]
    }
   ],
   "source": [
    "print(\"Train Passenger count equals 0: \", (train['passenger_count'] == 0).sum())\n",
    "print(\"Test Passenger count equals 0: \", (test['passenger_count'] == 0).sum())"
   ]
  },
  {
   "cell_type": "code",
   "execution_count": 20,
   "id": "513ed1b5",
   "metadata": {},
   "outputs": [
    {
     "data": {
      "image/png": "[encoded data removed]",
      "text/plain": [
       "<Figure size 720x432 with 1 Axes>"
      ]
     },
     "metadata": {
      "needs_background": "light"
     },
     "output_type": "display_data"
    }
   ],
   "source": [
    "plt.figure(figsize=(10, 6))\n",
    "sns.histplot(train['fare_amount']);\n",
    "plt.title('Distribution of Fare Amount');"
   ]
  },
  {
   "cell_type": "code",
   "execution_count": 21,
   "id": "1565072c",
   "metadata": {},
   "outputs": [],
   "source": [
    "def clean_df(df):\n",
    "    new_df = df[\n",
    "        ((df['fare_amount'] > 0) & (df['fare_amount'] <= 200)) &\n",
    "        ((df['pickup_longitude'] > -75) & (df['pickup_longitude'] < -73)) &  \n",
    "        ((df['pickup_latitude'] > 40) & (df['pickup_latitude'] < 42)) &\n",
    "        ((df['dropoff_longitude'] > -75) & (df['dropoff_longitude'] < -73)) &\n",
    "        ((df['dropoff_latitude'] > 40 & (df['dropoff_latitude'] < 42))) &\n",
    "        ((df['passenger_count'] > 0) & (df['passenger_count'] <= 6))\n",
    "    ]\n",
    "    \n",
    "    return new_df"
   ]
  },
  {
   "cell_type": "code",
   "execution_count": 23,
   "id": "b4c80f82",
   "metadata": {},
   "outputs": [
    {
     "data": {
      "text/plain": [
       "<AxesSubplot:xlabel='pickup_longitude', ylabel='pickup_latitude'>"
      ]
     },
     "execution_count": 23,
     "metadata": {},
     "output_type": "execute_result"
    },
    {
     "data": {
      "image/png": "[encoded data removed]",
      "text/plain": [
       "<Figure size 864x576 with 1 Axes>"
      ]
     },
     "metadata": {
      "needs_background": "light"
     },
     "output_type": "display_data"
    }
   ],
   "source": [
    "plt.figure(figsize=(12,8))\n",
    "sns.scatterplot(x=train['pickup_longitude'], y=train['pickup_latitude'])"
   ]
  },
  {
   "cell_type": "code",
   "execution_count": 24,
   "id": "dd5dd8ab",
   "metadata": {},
   "outputs": [
    {
     "data": {
      "text/plain": [
       "<AxesSubplot:xlabel='pickup_longitude', ylabel='pickup_latitude'>"
      ]
     },
     "execution_count": 24,
     "metadata": {},
     "output_type": "execute_result"
    },
    {
     "data": {
      "image/png": "[encoded data removed]",
      "text/plain": [
       "<Figure size 864x576 with 1 Axes>"
      ]
     },
     "metadata": {
      "needs_background": "light"
     },
     "output_type": "display_data"
    }
   ],
   "source": [
    "plt.figure(figsize=(12,8))\n",
    "sns.scatterplot(x=train['pickup_longitude'], y=train['pickup_latitude'])"
   ]
  },
  {
   "cell_type": "code",
   "execution_count": 25,
   "id": "884cd290",
   "metadata": {},
   "outputs": [
    {
     "data": {
      "text/plain": [
       "<AxesSubplot:xlabel='pickup_longitude', ylabel='pickup_latitude'>"
      ]
     },
     "execution_count": 25,
     "metadata": {},
     "output_type": "execute_result"
    },
    {
     "data": {
      "image/png": "[encoded data removed]",
      "text/plain": [
       "<Figure size 864x576 with 1 Axes>"
      ]
     },
     "metadata": {
      "needs_background": "light"
     },
     "output_type": "display_data"
    }
   ],
   "source": [
    "plt.figure(figsize=(12,8))\n",
    "sns.scatterplot(x=train['pickup_longitude'], y=train['pickup_latitude'])"
   ]
  },
  {
   "cell_type": "code",
   "execution_count": 26,
   "id": "5a1ed46b",
   "metadata": {},
   "outputs": [
    {
     "name": "stdout",
     "output_type": "stream",
     "text": [
      "Before: 1000000\n",
      "After: 1000000\n"
     ]
    }
   ],
   "source": [
    "print(\"Before:\", len(train))\n",
    "train_df = clean_df(train)\n",
    "print(\"After:\", len(train))"
   ]
  },
  {
   "cell_type": "code",
   "execution_count": 27,
   "id": "a609d5e2",
   "metadata": {},
   "outputs": [
    {
     "data": {
      "text/plain": [
       "<AxesSubplot:xlabel='pickup_longitude', ylabel='pickup_latitude'>"
      ]
     },
     "execution_count": 27,
     "metadata": {},
     "output_type": "execute_result"
    },
    {
     "data": {
      "image/png": "[encoded data removed]",
      "text/plain": [
       "<Figure size 864x576 with 1 Axes>"
      ]
     },
     "metadata": {
      "needs_background": "light"
     },
     "output_type": "display_data"
    }
   ],
   "source": [
    "plt.figure(figsize=(12,8))\n",
    "sns.scatterplot(x=train['pickup_longitude'], y=train['pickup_latitude'])"
   ]
  },
  {
   "cell_type": "code",
   "execution_count": 28,
   "id": "cfb4e254",
   "metadata": {},
   "outputs": [
    {
     "data": {
      "text/plain": [
       "Text(0, 0.5, 'Fare Amount')"
      ]
     },
     "execution_count": 28,
     "metadata": {},
     "output_type": "execute_result"
    },
    {
     "data": {
      "image/png": "[encoded data removed]",
      "text/plain": [
       "<Figure size 720x432 with 1 Axes>"
      ]
     },
     "metadata": {
      "needs_background": "light"
     },
     "output_type": "display_data"
    }
   ],
   "source": [
    "plt.figure(figsize=(10, 6))\n",
    "sns.scatterplot(x=train['passenger_count'], y=train['fare_amount'])\n",
    "plt.xlabel('Number of Passengers')\n",
    "plt.ylabel('Fare Amount')"
   ]
  },
  {
   "cell_type": "code",
   "execution_count": 29,
   "id": "84ff7a16",
   "metadata": {},
   "outputs": [
    {
     "data": {
      "text/html": [
       "<div>\n",
       "<style scoped>\n",
       "    .dataframe tbody tr th:only-of-type {\n",
       "        vertical-align: middle;\n",
       "    }\n",
       "\n",
       "    .dataframe tbody tr th {\n",
       "        vertical-align: top;\n",
       "    }\n",
       "\n",
       "    .dataframe thead th {\n",
       "        text-align: right;\n",
       "    }\n",
       "</style>\n",
       "<table border=\"1\" class=\"dataframe\">\n",
       "  <thead>\n",
       "    <tr style=\"text-align: right;\">\n",
       "      <th></th>\n",
       "      <th>fare_amount</th>\n",
       "      <th>pickup_longitude</th>\n",
       "      <th>pickup_latitude</th>\n",
       "      <th>dropoff_longitude</th>\n",
       "      <th>dropoff_latitude</th>\n",
       "      <th>passenger_count</th>\n",
       "    </tr>\n",
       "  </thead>\n",
       "  <tbody>\n",
       "    <tr>\n",
       "      <th>count</th>\n",
       "      <td>1000000.00000</td>\n",
       "      <td>1000000.00000</td>\n",
       "      <td>1000000.00000</td>\n",
       "      <td>999990.00000</td>\n",
       "      <td>999990.00000</td>\n",
       "      <td>1000000.00000</td>\n",
       "    </tr>\n",
       "    <tr>\n",
       "      <th>mean</th>\n",
       "      <td>11.34808</td>\n",
       "      <td>-72.52664</td>\n",
       "      <td>39.92901</td>\n",
       "      <td>-72.52786</td>\n",
       "      <td>39.91995</td>\n",
       "      <td>1.68492</td>\n",
       "    </tr>\n",
       "    <tr>\n",
       "      <th>std</th>\n",
       "      <td>9.82209</td>\n",
       "      <td>12.05794</td>\n",
       "      <td>7.62615</td>\n",
       "      <td>11.32449</td>\n",
       "      <td>8.20142</td>\n",
       "      <td>1.32391</td>\n",
       "    </tr>\n",
       "    <tr>\n",
       "      <th>min</th>\n",
       "      <td>-44.90000</td>\n",
       "      <td>-3377.68093</td>\n",
       "      <td>-3116.28538</td>\n",
       "      <td>-3383.29661</td>\n",
       "      <td>-3114.33857</td>\n",
       "      <td>0.00000</td>\n",
       "    </tr>\n",
       "    <tr>\n",
       "      <th>25%</th>\n",
       "      <td>6.00000</td>\n",
       "      <td>-73.99206</td>\n",
       "      <td>40.73497</td>\n",
       "      <td>-73.99138</td>\n",
       "      <td>40.73405</td>\n",
       "      <td>1.00000</td>\n",
       "    </tr>\n",
       "    <tr>\n",
       "      <th>50%</th>\n",
       "      <td>8.50000</td>\n",
       "      <td>-73.98179</td>\n",
       "      <td>40.75270</td>\n",
       "      <td>-73.98014</td>\n",
       "      <td>40.75317</td>\n",
       "      <td>1.00000</td>\n",
       "    </tr>\n",
       "    <tr>\n",
       "      <th>75%</th>\n",
       "      <td>12.50000</td>\n",
       "      <td>-73.96709</td>\n",
       "      <td>40.76715</td>\n",
       "      <td>-73.96365</td>\n",
       "      <td>40.76813</td>\n",
       "      <td>2.00000</td>\n",
       "    </tr>\n",
       "    <tr>\n",
       "      <th>max</th>\n",
       "      <td>500.00000</td>\n",
       "      <td>2522.27133</td>\n",
       "      <td>2621.62843</td>\n",
       "      <td>45.58162</td>\n",
       "      <td>1651.55343</td>\n",
       "      <td>208.00000</td>\n",
       "    </tr>\n",
       "  </tbody>\n",
       "</table>\n",
       "</div>"
      ],
      "text/plain": [
       "        fare_amount  pickup_longitude  pickup_latitude  dropoff_longitude  \\\n",
       "count 1000000.00000     1000000.00000    1000000.00000       999990.00000   \n",
       "mean       11.34808         -72.52664         39.92901          -72.52786   \n",
       "std         9.82209          12.05794          7.62615           11.32449   \n",
       "min       -44.90000       -3377.68093      -3116.28538        -3383.29661   \n",
       "25%         6.00000         -73.99206         40.73497          -73.99138   \n",
       "50%         8.50000         -73.98179         40.75270          -73.98014   \n",
       "75%        12.50000         -73.96709         40.76715          -73.96365   \n",
       "max       500.00000        2522.27133       2621.62843           45.58162   \n",
       "\n",
       "       dropoff_latitude  passenger_count  \n",
       "count      999990.00000    1000000.00000  \n",
       "mean           39.91995          1.68492  \n",
       "std             8.20142          1.32391  \n",
       "min         -3114.33857          0.00000  \n",
       "25%            40.73405          1.00000  \n",
       "50%            40.75317          1.00000  \n",
       "75%            40.76813          2.00000  \n",
       "max          1651.55343        208.00000  "
      ]
     },
     "execution_count": 29,
     "metadata": {},
     "output_type": "execute_result"
    }
   ],
   "source": [
    "train.describe()"
   ]
  },
  {
   "cell_type": "code",
   "execution_count": 30,
   "id": "a7775fc0",
   "metadata": {},
   "outputs": [],
   "source": [
    "def manhattan_dist(lat_p, long_p, lat_d, long_d):  \n",
    "    distance = np.abs(lat_d - lat_p) + np.abs(long_d - long_p)\n",
    "    \n",
    "    return distance"
   ]
  },
  {
   "cell_type": "code",
   "execution_count": 31,
   "id": "917c894f",
   "metadata": {},
   "outputs": [],
   "source": [
    "def add_datetime_info(df, transform_datetime=False):\n",
    "    if transform_datetime:\n",
    "        df['pickup_datetime'] = pd.to_datetime(df['pickup_datetime'], format=\"%Y-%m-%d %H:%M:%S UTC\")\n",
    "    \n",
    "    df['hour'] = df['pickup_datetime'].dt.hour\n",
    "    df['day'] = df['pickup_datetime'].dt.day\n",
    "    df['month'] = df['pickup_datetime'].dt.month\n",
    "    df['year'] = df['pickup_datetime'].dt.year\n",
    "#     df['weekday'] = df['pickup_datetime'].dt.weekday # removing this since it's the least important feature\n",
    "    df.drop('pickup_datetime', axis=1, inplace=True)"
   ]
  },
  {
   "cell_type": "code",
   "execution_count": 32,
   "id": "4b3202a5",
   "metadata": {},
   "outputs": [],
   "source": [
    "  def add_airport_info(df):\n",
    "    nyc = (-74.0063889, 40.7141667)\n",
    "    jfk = (40.6441666667, -73.7822222222)\n",
    "    ewr = (40.69, -74.175)\n",
    "    lgr = (40.77, -73.87)\n",
    "    \n",
    "    df['distance_to_center'] = manhattan_dist(nyc[0], nyc[1], df['pickup_latitude'], df['pickup_longitude'])\n",
    "    df['pickup_distance_to_jfk'] = manhattan_dist(jfk[0], jfk[1], df['pickup_latitude'], df['pickup_longitude'])\n",
    "    df['dropoff_distance_to_jfk'] = manhattan_dist(jfk[0], jfk[1], df['dropoff_latitude'], df['dropoff_longitude'])\n",
    "    df['pickup_distance_to_ewr'] = manhattan_dist(ewr[0], ewr[1], df['pickup_latitude'], df['pickup_longitude'])\n",
    "    df['dropoff_distance_to_ewr'] = manhattan_dist(ewr[0], ewr[1],df['dropoff_latitude'], df['dropoff_longitude'])\n",
    "    df['pickup_distance_to_lgr'] = manhattan_dist(lgr[0], lgr[1], df['pickup_latitude'], df['pickup_longitude'])\n",
    "    df['dropoff_distance_to_lgr'] = manhattan_dist(lgr[0], lgr[1], df['dropoff_latitude'], df['dropoff_longitude'])\n",
    "\n",
    "    df['long_diff'] = df.dropoff_longitude - df.pickup_longitude\n",
    "    df['lat_diff'] = df.dropoff_latitude - df.pickup_latitude"
   ]
  },
  {
   "cell_type": "code",
   "execution_count": 33,
   "id": "dc1cbbea",
   "metadata": {},
   "outputs": [],
   "source": [
    "def transform(df, transform_datetime):\n",
    "    add_datetime_info(df, transform_datetime)\n",
    "    add_airport_info(df)\n",
    "    df['manhattan_dist'] = manhattan_dist(df['pickup_latitude'], df['pickup_longitude'], df['dropoff_latitude'], df['dropoff_longitude'])\n",
    "    return df"
   ]
  },
  {
   "cell_type": "code",
   "execution_count": 34,
   "id": "7c6ad375",
   "metadata": {},
   "outputs": [
    {
     "name": "stderr",
     "output_type": "stream",
     "text": [
      "<ipython-input-31-d13deee9b0dd>:3: SettingWithCopyWarning: \n",
      "A value is trying to be set on a copy of a slice from a DataFrame.\n",
      "Try using .loc[row_indexer,col_indexer] = value instead\n",
      "\n",
      "See the caveats in the documentation: https://pandas.pydata.org/pandas-docs/stable/user_guide/indexing.html#returning-a-view-versus-a-copy\n",
      "  df['pickup_datetime'] = pd.to_datetime(df['pickup_datetime'], format=\"%Y-%m-%d %H:%M:%S UTC\")\n",
      "<ipython-input-31-d13deee9b0dd>:5: SettingWithCopyWarning: \n",
      "A value is trying to be set on a copy of a slice from a DataFrame.\n",
      "Try using .loc[row_indexer,col_indexer] = value instead\n",
      "\n",
      "See the caveats in the documentation: https://pandas.pydata.org/pandas-docs/stable/user_guide/indexing.html#returning-a-view-versus-a-copy\n",
      "  df['hour'] = df['pickup_datetime'].dt.hour\n",
      "<ipython-input-31-d13deee9b0dd>:6: SettingWithCopyWarning: \n",
      "A value is trying to be set on a copy of a slice from a DataFrame.\n",
      "Try using .loc[row_indexer,col_indexer] = value instead\n",
      "\n",
      "See the caveats in the documentation: https://pandas.pydata.org/pandas-docs/stable/user_guide/indexing.html#returning-a-view-versus-a-copy\n",
      "  df['day'] = df['pickup_datetime'].dt.day\n",
      "<ipython-input-31-d13deee9b0dd>:7: SettingWithCopyWarning: \n",
      "A value is trying to be set on a copy of a slice from a DataFrame.\n",
      "Try using .loc[row_indexer,col_indexer] = value instead\n",
      "\n",
      "See the caveats in the documentation: https://pandas.pydata.org/pandas-docs/stable/user_guide/indexing.html#returning-a-view-versus-a-copy\n",
      "  df['month'] = df['pickup_datetime'].dt.month\n",
      "<ipython-input-31-d13deee9b0dd>:8: SettingWithCopyWarning: \n",
      "A value is trying to be set on a copy of a slice from a DataFrame.\n",
      "Try using .loc[row_indexer,col_indexer] = value instead\n",
      "\n",
      "See the caveats in the documentation: https://pandas.pydata.org/pandas-docs/stable/user_guide/indexing.html#returning-a-view-versus-a-copy\n",
      "  df['year'] = df['pickup_datetime'].dt.year\n",
      "C:\\ProgramData\\Anaconda3\\lib\\site-packages\\pandas\\core\\frame.py:4308: SettingWithCopyWarning: \n",
      "A value is trying to be set on a copy of a slice from a DataFrame\n",
      "\n",
      "See the caveats in the documentation: https://pandas.pydata.org/pandas-docs/stable/user_guide/indexing.html#returning-a-view-versus-a-copy\n",
      "  return super().drop(\n",
      "<ipython-input-32-bfbf16e902b6>:9: SettingWithCopyWarning: \n",
      "A value is trying to be set on a copy of a slice from a DataFrame.\n",
      "Try using .loc[row_indexer,col_indexer] = value instead\n",
      "\n",
      "See the caveats in the documentation: https://pandas.pydata.org/pandas-docs/stable/user_guide/indexing.html#returning-a-view-versus-a-copy\n",
      "  df['dropoff_distance_to_jfk'] = manhattan_dist(jfk[0], jfk[1], df['dropoff_latitude'], df['dropoff_longitude'])\n",
      "<ipython-input-32-bfbf16e902b6>:10: SettingWithCopyWarning: \n",
      "A value is trying to be set on a copy of a slice from a DataFrame.\n",
      "Try using .loc[row_indexer,col_indexer] = value instead\n",
      "\n",
      "See the caveats in the documentation: https://pandas.pydata.org/pandas-docs/stable/user_guide/indexing.html#returning-a-view-versus-a-copy\n",
      "  df['pickup_distance_to_ewr'] = manhattan_dist(ewr[0], ewr[1], df['pickup_latitude'], df['pickup_longitude'])\n",
      "<ipython-input-32-bfbf16e902b6>:11: SettingWithCopyWarning: \n",
      "A value is trying to be set on a copy of a slice from a DataFrame.\n",
      "Try using .loc[row_indexer,col_indexer] = value instead\n",
      "\n",
      "See the caveats in the documentation: https://pandas.pydata.org/pandas-docs/stable/user_guide/indexing.html#returning-a-view-versus-a-copy\n",
      "  df['dropoff_distance_to_ewr'] = manhattan_dist(ewr[0], ewr[1],df['dropoff_latitude'], df['dropoff_longitude'])\n",
      "<ipython-input-32-bfbf16e902b6>:12: SettingWithCopyWarning: \n",
      "A value is trying to be set on a copy of a slice from a DataFrame.\n",
      "Try using .loc[row_indexer,col_indexer] = value instead\n",
      "\n",
      "See the caveats in the documentation: https://pandas.pydata.org/pandas-docs/stable/user_guide/indexing.html#returning-a-view-versus-a-copy\n",
      "  df['pickup_distance_to_lgr'] = manhattan_dist(lgr[0], lgr[1], df['pickup_latitude'], df['pickup_longitude'])\n",
      "<ipython-input-32-bfbf16e902b6>:13: SettingWithCopyWarning: \n",
      "A value is trying to be set on a copy of a slice from a DataFrame.\n",
      "Try using .loc[row_indexer,col_indexer] = value instead\n",
      "\n",
      "See the caveats in the documentation: https://pandas.pydata.org/pandas-docs/stable/user_guide/indexing.html#returning-a-view-versus-a-copy\n",
      "  df['dropoff_distance_to_lgr'] = manhattan_dist(lgr[0], lgr[1], df['dropoff_latitude'], df['dropoff_longitude'])\n",
      "<ipython-input-32-bfbf16e902b6>:15: SettingWithCopyWarning: \n",
      "A value is trying to be set on a copy of a slice from a DataFrame.\n",
      "Try using .loc[row_indexer,col_indexer] = value instead\n",
      "\n",
      "See the caveats in the documentation: https://pandas.pydata.org/pandas-docs/stable/user_guide/indexing.html#returning-a-view-versus-a-copy\n",
      "  df['long_diff'] = df.dropoff_longitude - df.pickup_longitude\n",
      "<ipython-input-32-bfbf16e902b6>:16: SettingWithCopyWarning: \n",
      "A value is trying to be set on a copy of a slice from a DataFrame.\n",
      "Try using .loc[row_indexer,col_indexer] = value instead\n",
      "\n",
      "See the caveats in the documentation: https://pandas.pydata.org/pandas-docs/stable/user_guide/indexing.html#returning-a-view-versus-a-copy\n",
      "  df['lat_diff'] = df.dropoff_latitude - df.pickup_latitude\n",
      "<ipython-input-33-e31d077c4238>:4: SettingWithCopyWarning: \n",
      "A value is trying to be set on a copy of a slice from a DataFrame.\n",
      "Try using .loc[row_indexer,col_indexer] = value instead\n",
      "\n",
      "See the caveats in the documentation: https://pandas.pydata.org/pandas-docs/stable/user_guide/indexing.html#returning-a-view-versus-a-copy\n",
      "  df['manhattan_dist'] = manhattan_dist(df['pickup_latitude'], df['pickup_longitude'], df['dropoff_latitude'], df['dropoff_longitude'])\n"
     ]
    },
    {
     "data": {
      "text/html": [
       "<div>\n",
       "<style scoped>\n",
       "    .dataframe tbody tr th:only-of-type {\n",
       "        vertical-align: middle;\n",
       "    }\n",
       "\n",
       "    .dataframe tbody tr th {\n",
       "        vertical-align: top;\n",
       "    }\n",
       "\n",
       "    .dataframe thead th {\n",
       "        text-align: right;\n",
       "    }\n",
       "</style>\n",
       "<table border=\"1\" class=\"dataframe\">\n",
       "  <thead>\n",
       "    <tr style=\"text-align: right;\">\n",
       "      <th></th>\n",
       "      <th>fare_amount</th>\n",
       "      <th>pickup_longitude</th>\n",
       "      <th>pickup_latitude</th>\n",
       "      <th>dropoff_longitude</th>\n",
       "      <th>dropoff_latitude</th>\n",
       "      <th>passenger_count</th>\n",
       "      <th>hour</th>\n",
       "      <th>day</th>\n",
       "      <th>month</th>\n",
       "      <th>year</th>\n",
       "      <th>distance_to_center</th>\n",
       "      <th>pickup_distance_to_jfk</th>\n",
       "      <th>dropoff_distance_to_jfk</th>\n",
       "      <th>pickup_distance_to_ewr</th>\n",
       "      <th>dropoff_distance_to_ewr</th>\n",
       "      <th>pickup_distance_to_lgr</th>\n",
       "      <th>dropoff_distance_to_lgr</th>\n",
       "      <th>long_diff</th>\n",
       "      <th>lat_diff</th>\n",
       "      <th>manhattan_dist</th>\n",
       "    </tr>\n",
       "  </thead>\n",
       "  <tbody>\n",
       "    <tr>\n",
       "      <th>0</th>\n",
       "      <td>4.50000</td>\n",
       "      <td>-73.84431</td>\n",
       "      <td>40.72132</td>\n",
       "      <td>-73.84161</td>\n",
       "      <td>40.71228</td>\n",
       "      <td>1</td>\n",
       "      <td>17</td>\n",
       "      <td>15</td>\n",
       "      <td>6</td>\n",
       "      <td>2009</td>\n",
       "      <td>229.28619</td>\n",
       "      <td>0.13924</td>\n",
       "      <td>0.12750</td>\n",
       "      <td>0.36201</td>\n",
       "      <td>0.35567</td>\n",
       "      <td>0.07437</td>\n",
       "      <td>0.08611</td>\n",
       "      <td>0.00270</td>\n",
       "      <td>-0.00904</td>\n",
       "      <td>0.01174</td>\n",
       "    </tr>\n",
       "    <tr>\n",
       "      <th>1</th>\n",
       "      <td>16.90000</td>\n",
       "      <td>-74.01605</td>\n",
       "      <td>40.71130</td>\n",
       "      <td>-73.97927</td>\n",
       "      <td>40.78200</td>\n",
       "      <td>1</td>\n",
       "      <td>16</td>\n",
       "      <td>5</td>\n",
       "      <td>1</td>\n",
       "      <td>2010</td>\n",
       "      <td>229.44791</td>\n",
       "      <td>0.30096</td>\n",
       "      <td>0.33488</td>\n",
       "      <td>0.18026</td>\n",
       "      <td>0.28774</td>\n",
       "      <td>0.20474</td>\n",
       "      <td>0.12127</td>\n",
       "      <td>0.03678</td>\n",
       "      <td>0.07070</td>\n",
       "      <td>0.10748</td>\n",
       "    </tr>\n",
       "    <tr>\n",
       "      <th>2</th>\n",
       "      <td>5.70000</td>\n",
       "      <td>-73.98274</td>\n",
       "      <td>40.76127</td>\n",
       "      <td>-73.99124</td>\n",
       "      <td>40.75056</td>\n",
       "      <td>2</td>\n",
       "      <td>0</td>\n",
       "      <td>18</td>\n",
       "      <td>8</td>\n",
       "      <td>2011</td>\n",
       "      <td>229.46456</td>\n",
       "      <td>0.31762</td>\n",
       "      <td>0.31542</td>\n",
       "      <td>0.26353</td>\n",
       "      <td>0.24432</td>\n",
       "      <td>0.12147</td>\n",
       "      <td>0.14068</td>\n",
       "      <td>-0.00850</td>\n",
       "      <td>-0.01071</td>\n",
       "      <td>0.01921</td>\n",
       "    </tr>\n",
       "    <tr>\n",
       "      <th>3</th>\n",
       "      <td>7.70000</td>\n",
       "      <td>-73.98713</td>\n",
       "      <td>40.73314</td>\n",
       "      <td>-73.99157</td>\n",
       "      <td>40.75809</td>\n",
       "      <td>1</td>\n",
       "      <td>4</td>\n",
       "      <td>21</td>\n",
       "      <td>4</td>\n",
       "      <td>2012</td>\n",
       "      <td>229.44083</td>\n",
       "      <td>0.29388</td>\n",
       "      <td>0.32327</td>\n",
       "      <td>0.23101</td>\n",
       "      <td>0.25152</td>\n",
       "      <td>0.15399</td>\n",
       "      <td>0.13348</td>\n",
       "      <td>-0.00444</td>\n",
       "      <td>0.02495</td>\n",
       "      <td>0.02939</td>\n",
       "    </tr>\n",
       "    <tr>\n",
       "      <th>4</th>\n",
       "      <td>5.30000</td>\n",
       "      <td>-73.96810</td>\n",
       "      <td>40.76801</td>\n",
       "      <td>-73.95665</td>\n",
       "      <td>40.78376</td>\n",
       "      <td>1</td>\n",
       "      <td>7</td>\n",
       "      <td>9</td>\n",
       "      <td>3</td>\n",
       "      <td>2010</td>\n",
       "      <td>229.45666</td>\n",
       "      <td>0.30971</td>\n",
       "      <td>0.31403</td>\n",
       "      <td>0.28491</td>\n",
       "      <td>0.31211</td>\n",
       "      <td>0.10009</td>\n",
       "      <td>0.10042</td>\n",
       "      <td>0.01144</td>\n",
       "      <td>0.01575</td>\n",
       "      <td>0.02719</td>\n",
       "    </tr>\n",
       "  </tbody>\n",
       "</table>\n",
       "</div>"
      ],
      "text/plain": [
       "   fare_amount  pickup_longitude  pickup_latitude  dropoff_longitude  \\\n",
       "0      4.50000         -73.84431         40.72132          -73.84161   \n",
       "1     16.90000         -74.01605         40.71130          -73.97927   \n",
       "2      5.70000         -73.98274         40.76127          -73.99124   \n",
       "3      7.70000         -73.98713         40.73314          -73.99157   \n",
       "4      5.30000         -73.96810         40.76801          -73.95665   \n",
       "\n",
       "   dropoff_latitude  passenger_count  hour  day  month  year  \\\n",
       "0          40.71228                1    17   15      6  2009   \n",
       "1          40.78200                1    16    5      1  2010   \n",
       "2          40.75056                2     0   18      8  2011   \n",
       "3          40.75809                1     4   21      4  2012   \n",
       "4          40.78376                1     7    9      3  2010   \n",
       "\n",
       "   distance_to_center  pickup_distance_to_jfk  dropoff_distance_to_jfk  \\\n",
       "0           229.28619                 0.13924                  0.12750   \n",
       "1           229.44791                 0.30096                  0.33488   \n",
       "2           229.46456                 0.31762                  0.31542   \n",
       "3           229.44083                 0.29388                  0.32327   \n",
       "4           229.45666                 0.30971                  0.31403   \n",
       "\n",
       "   pickup_distance_to_ewr  dropoff_distance_to_ewr  pickup_distance_to_lgr  \\\n",
       "0                 0.36201                  0.35567                 0.07437   \n",
       "1                 0.18026                  0.28774                 0.20474   \n",
       "2                 0.26353                  0.24432                 0.12147   \n",
       "3                 0.23101                  0.25152                 0.15399   \n",
       "4                 0.28491                  0.31211                 0.10009   \n",
       "\n",
       "   dropoff_distance_to_lgr  long_diff  lat_diff  manhattan_dist  \n",
       "0                  0.08611    0.00270  -0.00904         0.01174  \n",
       "1                  0.12127    0.03678   0.07070         0.10748  \n",
       "2                  0.14068   -0.00850  -0.01071         0.01921  \n",
       "3                  0.13348   -0.00444   0.02495         0.02939  \n",
       "4                  0.10042    0.01144   0.01575         0.02719  "
      ]
     },
     "execution_count": 34,
     "metadata": {},
     "output_type": "execute_result"
    }
   ],
   "source": [
    "train_df = transform(train_df, transform_datetime=True)\n",
    "train_df.head()"
   ]
  },
  {
   "cell_type": "code",
   "execution_count": 35,
   "id": "500168e7",
   "metadata": {},
   "outputs": [],
   "source": [
    "def visualize_date_fare(df):\n",
    "#     date_objects = ['hour', 'day', 'weekday', 'month', 'year']\n",
    "    date_objects = ['hour', 'day', 'month', 'year']\n",
    "\n",
    "    for idx, obj in enumerate(date_objects):\n",
    "    #     print(\"IDX\", idx)\n",
    "    #     print(\"OBJ\", obj)\n",
    "        plt.figure(figsize=(10,6))\n",
    "        sns.barplot(x=df[obj], y=df['fare_amount'], ci=None) # setting ci=None dramatically decreases the time for plotting\n",
    "        print(plt.get_cmap())\n",
    "        plt.title('Average Fare Amount by ' + obj)\n",
    "        plt.ylabel('Fare Amount')\n",
    "        \n",
    "        plt.show()"
   ]
  },
  {
   "cell_type": "code",
   "execution_count": 37,
   "id": "d74ce526",
   "metadata": {},
   "outputs": [
    {
     "name": "stdout",
     "output_type": "stream",
     "text": [
      "<matplotlib.colors.ListedColormap object at 0x000001DFF28D3E80>\n"
     ]
    },
    {
     "data": {
      "image/png": "[encoded data removed]",
      "text/plain": [
       "<Figure size 720x432 with 1 Axes>"
      ]
     },
     "metadata": {
      "needs_background": "light"
     },
     "output_type": "display_data"
    },
    {
     "name": "stdout",
     "output_type": "stream",
     "text": [
      "<matplotlib.colors.ListedColormap object at 0x000001DFF28D3E80>\n"
     ]
    },
    {
     "data": {
      "image/png": "[encoded data removed]",
      "text/plain": [
       "<Figure size 720x432 with 1 Axes>"
      ]
     },
     "metadata": {
      "needs_background": "light"
     },
     "output_type": "display_data"
    },
    {
     "name": "stdout",
     "output_type": "stream",
     "text": [
      "<matplotlib.colors.ListedColormap object at 0x000001DFF28D3E80>\n"
     ]
    },
    {
     "data": {
      "image/png": "[encoded data removed]",
      "text/plain": [
       "<Figure size 720x432 with 1 Axes>"
      ]
     },
     "metadata": {
      "needs_background": "light"
     },
     "output_type": "display_data"
    },
    {
     "name": "stdout",
     "output_type": "stream",
     "text": [
      "<matplotlib.colors.ListedColormap object at 0x000001DFF28D3E80>\n"
     ]
    },
    {
     "data": {
      "image/png": "[encoded data removed]",
      "text/plain": [
       "<Figure size 720x432 with 1 Axes>"
      ]
     },
     "metadata": {
      "needs_background": "light"
     },
     "output_type": "display_data"
    }
   ],
   "source": [
    "visualize_date_fare(train_df)"
   ]
  },
  {
   "cell_type": "code",
   "execution_count": 38,
   "id": "9a5c4124",
   "metadata": {},
   "outputs": [],
   "source": [
    "def visualize_date_counts(df):\n",
    "    #     date_objects = ['hour', 'day', 'weekday', 'month', 'year']\n",
    "    date_objects = ['hour', 'day', 'month', 'year']\n",
    "    # fig, axes = plt.subplots(1, 5)\n",
    "\n",
    "    for obj in date_objects:\n",
    "        plt.figure(figsize=(10,6))\n",
    "        sns.countplot(x=df[obj])\n",
    "        plt.ylabel('Count')\n",
    "        plt.title('Taxi Rides Count by ' + obj)\n",
    "        plt.show()"
   ]
  },
  {
   "cell_type": "code",
   "execution_count": 39,
   "id": "aabcbe25",
   "metadata": {},
   "outputs": [
    {
     "data": {
      "image/png": "[encoded data removed]",
      "text/plain": [
       "<Figure size 720x432 with 1 Axes>"
      ]
     },
     "metadata": {
      "needs_background": "light"
     },
     "output_type": "display_data"
    },
    {
     "data": {
      "image/png": "[encoded data removed]",
      "text/plain": [
       "<Figure size 720x432 with 1 Axes>"
      ]
     },
     "metadata": {
      "needs_background": "light"
     },
     "output_type": "display_data"
    },
    {
     "data": {
      "image/png": "[encoded data removed]",
      "text/plain": [
       "<Figure size 720x432 with 1 Axes>"
      ]
     },
     "metadata": {
      "needs_background": "light"
     },
     "output_type": "display_data"
    },
    {
     "data": {
      "image/png": "[encoded data removed]",
      "text/plain": [
       "<Figure size 720x432 with 1 Axes>"
      ]
     },
     "metadata": {
      "needs_background": "light"
     },
     "output_type": "display_data"
    }
   ],
   "source": [
    "visualize_date_counts(train_df)"
   ]
  },
  {
   "cell_type": "code",
   "execution_count": 40,
   "id": "3f065a78",
   "metadata": {},
   "outputs": [
    {
     "data": {
      "text/html": [
       "<div>\n",
       "<style scoped>\n",
       "    .dataframe tbody tr th:only-of-type {\n",
       "        vertical-align: middle;\n",
       "    }\n",
       "\n",
       "    .dataframe tbody tr th {\n",
       "        vertical-align: top;\n",
       "    }\n",
       "\n",
       "    .dataframe thead th {\n",
       "        text-align: right;\n",
       "    }\n",
       "</style>\n",
       "<table border=\"1\" class=\"dataframe\">\n",
       "  <thead>\n",
       "    <tr style=\"text-align: right;\">\n",
       "      <th></th>\n",
       "      <th>fare_amount</th>\n",
       "      <th>pickup_longitude</th>\n",
       "      <th>pickup_latitude</th>\n",
       "      <th>dropoff_longitude</th>\n",
       "      <th>dropoff_latitude</th>\n",
       "      <th>passenger_count</th>\n",
       "      <th>hour</th>\n",
       "      <th>day</th>\n",
       "      <th>month</th>\n",
       "      <th>year</th>\n",
       "      <th>distance_to_center</th>\n",
       "      <th>pickup_distance_to_jfk</th>\n",
       "      <th>dropoff_distance_to_jfk</th>\n",
       "      <th>pickup_distance_to_ewr</th>\n",
       "      <th>dropoff_distance_to_ewr</th>\n",
       "      <th>pickup_distance_to_lgr</th>\n",
       "      <th>dropoff_distance_to_lgr</th>\n",
       "      <th>long_diff</th>\n",
       "      <th>lat_diff</th>\n",
       "      <th>manhattan_dist</th>\n",
       "    </tr>\n",
       "  </thead>\n",
       "  <tbody>\n",
       "    <tr>\n",
       "      <th>0</th>\n",
       "      <td>4.50000</td>\n",
       "      <td>-73.84431</td>\n",
       "      <td>40.72132</td>\n",
       "      <td>-73.84161</td>\n",
       "      <td>40.71228</td>\n",
       "      <td>1</td>\n",
       "      <td>17</td>\n",
       "      <td>15</td>\n",
       "      <td>6</td>\n",
       "      <td>2009</td>\n",
       "      <td>229.28619</td>\n",
       "      <td>0.13924</td>\n",
       "      <td>0.12750</td>\n",
       "      <td>0.36201</td>\n",
       "      <td>0.35567</td>\n",
       "      <td>0.07437</td>\n",
       "      <td>0.08611</td>\n",
       "      <td>0.00270</td>\n",
       "      <td>-0.00904</td>\n",
       "      <td>0.01174</td>\n",
       "    </tr>\n",
       "    <tr>\n",
       "      <th>1</th>\n",
       "      <td>16.90000</td>\n",
       "      <td>-74.01605</td>\n",
       "      <td>40.71130</td>\n",
       "      <td>-73.97927</td>\n",
       "      <td>40.78200</td>\n",
       "      <td>1</td>\n",
       "      <td>16</td>\n",
       "      <td>5</td>\n",
       "      <td>1</td>\n",
       "      <td>2010</td>\n",
       "      <td>229.44791</td>\n",
       "      <td>0.30096</td>\n",
       "      <td>0.33488</td>\n",
       "      <td>0.18026</td>\n",
       "      <td>0.28774</td>\n",
       "      <td>0.20474</td>\n",
       "      <td>0.12127</td>\n",
       "      <td>0.03678</td>\n",
       "      <td>0.07070</td>\n",
       "      <td>0.10748</td>\n",
       "    </tr>\n",
       "    <tr>\n",
       "      <th>2</th>\n",
       "      <td>5.70000</td>\n",
       "      <td>-73.98274</td>\n",
       "      <td>40.76127</td>\n",
       "      <td>-73.99124</td>\n",
       "      <td>40.75056</td>\n",
       "      <td>2</td>\n",
       "      <td>0</td>\n",
       "      <td>18</td>\n",
       "      <td>8</td>\n",
       "      <td>2011</td>\n",
       "      <td>229.46456</td>\n",
       "      <td>0.31762</td>\n",
       "      <td>0.31542</td>\n",
       "      <td>0.26353</td>\n",
       "      <td>0.24432</td>\n",
       "      <td>0.12147</td>\n",
       "      <td>0.14068</td>\n",
       "      <td>-0.00850</td>\n",
       "      <td>-0.01071</td>\n",
       "      <td>0.01921</td>\n",
       "    </tr>\n",
       "    <tr>\n",
       "      <th>3</th>\n",
       "      <td>7.70000</td>\n",
       "      <td>-73.98713</td>\n",
       "      <td>40.73314</td>\n",
       "      <td>-73.99157</td>\n",
       "      <td>40.75809</td>\n",
       "      <td>1</td>\n",
       "      <td>4</td>\n",
       "      <td>21</td>\n",
       "      <td>4</td>\n",
       "      <td>2012</td>\n",
       "      <td>229.44083</td>\n",
       "      <td>0.29388</td>\n",
       "      <td>0.32327</td>\n",
       "      <td>0.23101</td>\n",
       "      <td>0.25152</td>\n",
       "      <td>0.15399</td>\n",
       "      <td>0.13348</td>\n",
       "      <td>-0.00444</td>\n",
       "      <td>0.02495</td>\n",
       "      <td>0.02939</td>\n",
       "    </tr>\n",
       "    <tr>\n",
       "      <th>4</th>\n",
       "      <td>5.30000</td>\n",
       "      <td>-73.96810</td>\n",
       "      <td>40.76801</td>\n",
       "      <td>-73.95665</td>\n",
       "      <td>40.78376</td>\n",
       "      <td>1</td>\n",
       "      <td>7</td>\n",
       "      <td>9</td>\n",
       "      <td>3</td>\n",
       "      <td>2010</td>\n",
       "      <td>229.45666</td>\n",
       "      <td>0.30971</td>\n",
       "      <td>0.31403</td>\n",
       "      <td>0.28491</td>\n",
       "      <td>0.31211</td>\n",
       "      <td>0.10009</td>\n",
       "      <td>0.10042</td>\n",
       "      <td>0.01144</td>\n",
       "      <td>0.01575</td>\n",
       "      <td>0.02719</td>\n",
       "    </tr>\n",
       "  </tbody>\n",
       "</table>\n",
       "</div>"
      ],
      "text/plain": [
       "   fare_amount  pickup_longitude  pickup_latitude  dropoff_longitude  \\\n",
       "0      4.50000         -73.84431         40.72132          -73.84161   \n",
       "1     16.90000         -74.01605         40.71130          -73.97927   \n",
       "2      5.70000         -73.98274         40.76127          -73.99124   \n",
       "3      7.70000         -73.98713         40.73314          -73.99157   \n",
       "4      5.30000         -73.96810         40.76801          -73.95665   \n",
       "\n",
       "   dropoff_latitude  passenger_count  hour  day  month  year  \\\n",
       "0          40.71228                1    17   15      6  2009   \n",
       "1          40.78200                1    16    5      1  2010   \n",
       "2          40.75056                2     0   18      8  2011   \n",
       "3          40.75809                1     4   21      4  2012   \n",
       "4          40.78376                1     7    9      3  2010   \n",
       "\n",
       "   distance_to_center  pickup_distance_to_jfk  dropoff_distance_to_jfk  \\\n",
       "0           229.28619                 0.13924                  0.12750   \n",
       "1           229.44791                 0.30096                  0.33488   \n",
       "2           229.46456                 0.31762                  0.31542   \n",
       "3           229.44083                 0.29388                  0.32327   \n",
       "4           229.45666                 0.30971                  0.31403   \n",
       "\n",
       "   pickup_distance_to_ewr  dropoff_distance_to_ewr  pickup_distance_to_lgr  \\\n",
       "0                 0.36201                  0.35567                 0.07437   \n",
       "1                 0.18026                  0.28774                 0.20474   \n",
       "2                 0.26353                  0.24432                 0.12147   \n",
       "3                 0.23101                  0.25152                 0.15399   \n",
       "4                 0.28491                  0.31211                 0.10009   \n",
       "\n",
       "   dropoff_distance_to_lgr  long_diff  lat_diff  manhattan_dist  \n",
       "0                  0.08611    0.00270  -0.00904         0.01174  \n",
       "1                  0.12127    0.03678   0.07070         0.10748  \n",
       "2                  0.14068   -0.00850  -0.01071         0.01921  \n",
       "3                  0.13348   -0.00444   0.02495         0.02939  \n",
       "4                  0.10042    0.01144   0.01575         0.02719  "
      ]
     },
     "execution_count": 40,
     "metadata": {},
     "output_type": "execute_result"
    }
   ],
   "source": [
    "train_df.head()"
   ]
  },
  {
   "cell_type": "code",
   "execution_count": 41,
   "id": "14e202a6",
   "metadata": {},
   "outputs": [],
   "source": [
    "# X = train_df.drop(['fare_amount', 'passenger_count'], axis=1)\n",
    "# y = train_df['fare_amount']\n",
    "\n",
    "X = train_df.drop(['fare_amount'], axis=1)\n",
    "y = train_df['fare_amount']"
   ]
  },
  {
   "cell_type": "code",
   "execution_count": 42,
   "id": "21afb34e",
   "metadata": {},
   "outputs": [],
   "source": [
    "X_train, X_val, y_train, y_val = train_test_split(X, y, random_state=42, test_size=0.05)"
   ]
  },
  {
   "cell_type": "code",
   "execution_count": 43,
   "id": "f93adf77",
   "metadata": {},
   "outputs": [
    {
     "data": {
      "text/html": [
       "<div>\n",
       "<style scoped>\n",
       "    .dataframe tbody tr th:only-of-type {\n",
       "        vertical-align: middle;\n",
       "    }\n",
       "\n",
       "    .dataframe tbody tr th {\n",
       "        vertical-align: top;\n",
       "    }\n",
       "\n",
       "    .dataframe thead th {\n",
       "        text-align: right;\n",
       "    }\n",
       "</style>\n",
       "<table border=\"1\" class=\"dataframe\">\n",
       "  <thead>\n",
       "    <tr style=\"text-align: right;\">\n",
       "      <th></th>\n",
       "      <th>pickup_longitude</th>\n",
       "      <th>pickup_latitude</th>\n",
       "      <th>dropoff_longitude</th>\n",
       "      <th>dropoff_latitude</th>\n",
       "      <th>passenger_count</th>\n",
       "      <th>hour</th>\n",
       "      <th>day</th>\n",
       "      <th>month</th>\n",
       "      <th>year</th>\n",
       "      <th>distance_to_center</th>\n",
       "      <th>pickup_distance_to_jfk</th>\n",
       "      <th>dropoff_distance_to_jfk</th>\n",
       "      <th>pickup_distance_to_ewr</th>\n",
       "      <th>dropoff_distance_to_ewr</th>\n",
       "      <th>pickup_distance_to_lgr</th>\n",
       "      <th>dropoff_distance_to_lgr</th>\n",
       "      <th>long_diff</th>\n",
       "      <th>lat_diff</th>\n",
       "      <th>manhattan_dist</th>\n",
       "    </tr>\n",
       "  </thead>\n",
       "  <tbody>\n",
       "    <tr>\n",
       "      <th>60687</th>\n",
       "      <td>-73.98395</td>\n",
       "      <td>40.76208</td>\n",
       "      <td>-73.99861</td>\n",
       "      <td>40.72323</td>\n",
       "      <td>1</td>\n",
       "      <td>20</td>\n",
       "      <td>16</td>\n",
       "      <td>5</td>\n",
       "      <td>2009</td>\n",
       "      <td>229.46659</td>\n",
       "      <td>0.31964</td>\n",
       "      <td>0.29545</td>\n",
       "      <td>0.26312</td>\n",
       "      <td>0.20962</td>\n",
       "      <td>0.12188</td>\n",
       "      <td>0.17538</td>\n",
       "      <td>-0.01466</td>\n",
       "      <td>-0.03885</td>\n",
       "      <td>0.05350</td>\n",
       "    </tr>\n",
       "    <tr>\n",
       "      <th>623739</th>\n",
       "      <td>-73.78510</td>\n",
       "      <td>40.64860</td>\n",
       "      <td>-73.99240</td>\n",
       "      <td>40.74520</td>\n",
       "      <td>3</td>\n",
       "      <td>14</td>\n",
       "      <td>14</td>\n",
       "      <td>7</td>\n",
       "      <td>2011</td>\n",
       "      <td>229.15426</td>\n",
       "      <td>0.00731</td>\n",
       "      <td>0.31121</td>\n",
       "      <td>0.43130</td>\n",
       "      <td>0.23780</td>\n",
       "      <td>0.20630</td>\n",
       "      <td>0.14720</td>\n",
       "      <td>-0.20730</td>\n",
       "      <td>0.09660</td>\n",
       "      <td>0.30390</td>\n",
       "    </tr>\n",
       "    <tr>\n",
       "      <th>265157</th>\n",
       "      <td>-73.99954</td>\n",
       "      <td>40.72671</td>\n",
       "      <td>-73.98411</td>\n",
       "      <td>40.68037</td>\n",
       "      <td>1</td>\n",
       "      <td>17</td>\n",
       "      <td>8</td>\n",
       "      <td>9</td>\n",
       "      <td>2012</td>\n",
       "      <td>229.44680</td>\n",
       "      <td>0.29986</td>\n",
       "      <td>0.23810</td>\n",
       "      <td>0.21217</td>\n",
       "      <td>0.20051</td>\n",
       "      <td>0.17283</td>\n",
       "      <td>0.20374</td>\n",
       "      <td>0.01542</td>\n",
       "      <td>-0.04634</td>\n",
       "      <td>0.06176</td>\n",
       "    </tr>\n",
       "    <tr>\n",
       "      <th>678931</th>\n",
       "      <td>-74.01007</td>\n",
       "      <td>40.72058</td>\n",
       "      <td>-74.00748</td>\n",
       "      <td>40.73291</td>\n",
       "      <td>1</td>\n",
       "      <td>22</td>\n",
       "      <td>31</td>\n",
       "      <td>8</td>\n",
       "      <td>2010</td>\n",
       "      <td>229.45120</td>\n",
       "      <td>0.30426</td>\n",
       "      <td>0.31400</td>\n",
       "      <td>0.19551</td>\n",
       "      <td>0.21044</td>\n",
       "      <td>0.18949</td>\n",
       "      <td>0.17456</td>\n",
       "      <td>0.00259</td>\n",
       "      <td>0.01234</td>\n",
       "      <td>0.01493</td>\n",
       "    </tr>\n",
       "    <tr>\n",
       "      <th>457599</th>\n",
       "      <td>-73.95446</td>\n",
       "      <td>40.76729</td>\n",
       "      <td>-73.98003</td>\n",
       "      <td>40.73945</td>\n",
       "      <td>1</td>\n",
       "      <td>10</td>\n",
       "      <td>28</td>\n",
       "      <td>7</td>\n",
       "      <td>2012</td>\n",
       "      <td>229.44231</td>\n",
       "      <td>0.29536</td>\n",
       "      <td>0.29309</td>\n",
       "      <td>0.29782</td>\n",
       "      <td>0.24442</td>\n",
       "      <td>0.08718</td>\n",
       "      <td>0.14058</td>\n",
       "      <td>-0.02556</td>\n",
       "      <td>-0.02784</td>\n",
       "      <td>0.05340</td>\n",
       "    </tr>\n",
       "  </tbody>\n",
       "</table>\n",
       "</div>"
      ],
      "text/plain": [
       "        pickup_longitude  pickup_latitude  dropoff_longitude  \\\n",
       "60687          -73.98395         40.76208          -73.99861   \n",
       "623739         -73.78510         40.64860          -73.99240   \n",
       "265157         -73.99954         40.72671          -73.98411   \n",
       "678931         -74.01007         40.72058          -74.00748   \n",
       "457599         -73.95446         40.76729          -73.98003   \n",
       "\n",
       "        dropoff_latitude  passenger_count  hour  day  month  year  \\\n",
       "60687           40.72323                1    20   16      5  2009   \n",
       "623739          40.74520                3    14   14      7  2011   \n",
       "265157          40.68037                1    17    8      9  2012   \n",
       "678931          40.73291                1    22   31      8  2010   \n",
       "457599          40.73945                1    10   28      7  2012   \n",
       "\n",
       "        distance_to_center  pickup_distance_to_jfk  dropoff_distance_to_jfk  \\\n",
       "60687            229.46659                 0.31964                  0.29545   \n",
       "623739           229.15426                 0.00731                  0.31121   \n",
       "265157           229.44680                 0.29986                  0.23810   \n",
       "678931           229.45120                 0.30426                  0.31400   \n",
       "457599           229.44231                 0.29536                  0.29309   \n",
       "\n",
       "        pickup_distance_to_ewr  dropoff_distance_to_ewr  \\\n",
       "60687                  0.26312                  0.20962   \n",
       "623739                 0.43130                  0.23780   \n",
       "265157                 0.21217                  0.20051   \n",
       "678931                 0.19551                  0.21044   \n",
       "457599                 0.29782                  0.24442   \n",
       "\n",
       "        pickup_distance_to_lgr  dropoff_distance_to_lgr  long_diff  lat_diff  \\\n",
       "60687                  0.12188                  0.17538   -0.01466  -0.03885   \n",
       "623739                 0.20630                  0.14720   -0.20730   0.09660   \n",
       "265157                 0.17283                  0.20374    0.01542  -0.04634   \n",
       "678931                 0.18949                  0.17456    0.00259   0.01234   \n",
       "457599                 0.08718                  0.14058   -0.02556  -0.02784   \n",
       "\n",
       "        manhattan_dist  \n",
       "60687          0.05350  \n",
       "623739         0.30390  \n",
       "265157         0.06176  \n",
       "678931         0.01493  \n",
       "457599         0.05340  "
      ]
     },
     "execution_count": 43,
     "metadata": {},
     "output_type": "execute_result"
    }
   ],
   "source": [
    "X_train.head()"
   ]
  },
  {
   "cell_type": "code",
   "execution_count": 44,
   "id": "a4666e8e",
   "metadata": {},
   "outputs": [],
   "source": [
    "del(X)\n",
    "del(y)"
   ]
  },
  {
   "cell_type": "code",
   "execution_count": 47,
   "id": "b603d9ab",
   "metadata": {},
   "outputs": [
    {
     "name": "stderr",
     "output_type": "stream",
     "text": [
      "[Parallel(n_jobs=-1)]: Using backend ThreadingBackend with 4 concurrent workers.\n",
      "[Parallel(n_jobs=-1)]: Done  42 tasks      | elapsed:   45.7s\n",
      "[Parallel(n_jobs=-1)]: Done 100 out of 100 | elapsed:  1.8min finished\n",
      "[Parallel(n_jobs=4)]: Using backend ThreadingBackend with 4 concurrent workers.\n",
      "[Parallel(n_jobs=4)]: Done  42 tasks      | elapsed:    0.2s\n"
     ]
    },
    {
     "name": "stdout",
     "output_type": "stream",
     "text": [
      "Random Forest Train RMSE:  5.360711373583524\n",
      "Random Forest Validation RMSE:  5.57404607316172\n"
     ]
    },
    {
     "name": "stderr",
     "output_type": "stream",
     "text": [
      "[Parallel(n_jobs=4)]: Done 100 out of 100 | elapsed:    0.7s finished\n",
      "[Parallel(n_jobs=4)]: Using backend ThreadingBackend with 4 concurrent workers.\n",
      "[Parallel(n_jobs=4)]: Done  42 tasks      | elapsed:    0.0s\n",
      "[Parallel(n_jobs=4)]: Done 100 out of 100 | elapsed:    0.0s finished\n"
     ]
    }
   ],
   "source": [
    "from sklearn.ensemble import RandomForestRegressor\n",
    "\n",
    "reg_model = Pipeline((\n",
    "         (\"standard_scaler\", StandardScaler()),\n",
    "         (\"lin_reg\", RandomForestRegressor(max_depth=2, random_state=42, n_jobs=-1, verbose=True, n_estimators=100)),\n",
    "     ))\n",
    "reg_model.fit(X_train, y_train)\n",
    "\n",
    "y_train_pred = reg_model.predict(X_train)\n",
    "y_val_pred = reg_model.predict(X_val)\n",
    "\n",
    "print(\"Random Forest Train RMSE: \", np.sqrt(mse(y_train, y_train_pred)))\n",
    "print(\"Random Forest Validation RMSE: \", np.sqrt(mse(y_val, y_val_pred)))"
   ]
  },
  {
   "cell_type": "code",
   "execution_count": 48,
   "id": "17b3ab6e",
   "metadata": {},
   "outputs": [],
   "source": [
    "def XGBoost(X_train,X_test,y_train,y_test):\n",
    "    dtrain = xgb.DMatrix(X_train,label=y_train)\n",
    "    dtest = xgb.DMatrix(X_test,label=y_test)\n",
    "\n",
    "    return xgb.train(params={'objective':'reg:linear','eval_metric':'rmse', 'max_depth':7, 'colsample_bytree':0.9, 'gamma':1}\n",
    "                    ,dtrain=dtrain,num_boost_round=400, \n",
    "                    early_stopping_rounds=30,evals=[(dtest,'test')])"
   ]
  },
  {
   "cell_type": "code",
   "execution_count": 49,
   "id": "29240687",
   "metadata": {},
   "outputs": [
    {
     "name": "stdout",
     "output_type": "stream",
     "text": [
      "[22:27:06] WARNING: C:/Users/administrator/workspace/xgboost-win64_release_1.6.0/src/objective/regression_obj.cu:203: reg:linear is now deprecated in favor of reg:squarederror.\n",
      "[0]\ttest-rmse:10.68200\n",
      "[1]\ttest-rmse:8.08937\n",
      "[2]\ttest-rmse:6.42954\n",
      "[3]\ttest-rmse:5.40964\n",
      "[4]\ttest-rmse:4.80521\n",
      "[5]\ttest-rmse:4.46497\n",
      "[6]\ttest-rmse:4.25609\n",
      "[7]\ttest-rmse:4.12536\n",
      "[8]\ttest-rmse:4.06568\n",
      "[9]\ttest-rmse:4.01752\n",
      "[10]\ttest-rmse:3.98710\n",
      "[11]\ttest-rmse:3.95576\n",
      "[12]\ttest-rmse:3.95135\n",
      "[13]\ttest-rmse:3.94491\n",
      "[14]\ttest-rmse:3.93748\n",
      "[15]\ttest-rmse:3.91978\n",
      "[16]\ttest-rmse:3.90503\n",
      "[17]\ttest-rmse:3.88698\n",
      "[18]\ttest-rmse:3.88177\n",
      "[19]\ttest-rmse:3.87901\n",
      "[20]\ttest-rmse:3.87533\n",
      "[21]\ttest-rmse:3.86228\n",
      "[22]\ttest-rmse:3.84168\n",
      "[23]\ttest-rmse:3.83973\n",
      "[24]\ttest-rmse:3.83622\n",
      "[25]\ttest-rmse:3.83145\n",
      "[26]\ttest-rmse:3.82924\n",
      "[27]\ttest-rmse:3.82357\n",
      "[28]\ttest-rmse:3.82191\n",
      "[29]\ttest-rmse:3.81995\n",
      "[30]\ttest-rmse:3.81839\n",
      "[31]\ttest-rmse:3.81493\n",
      "[32]\ttest-rmse:3.81203\n",
      "[33]\ttest-rmse:3.80707\n",
      "[34]\ttest-rmse:3.80288\n",
      "[35]\ttest-rmse:3.79942\n",
      "[36]\ttest-rmse:3.80048\n",
      "[37]\ttest-rmse:3.80094\n",
      "[38]\ttest-rmse:3.80217\n",
      "[39]\ttest-rmse:3.79705\n",
      "[40]\ttest-rmse:3.79720\n",
      "[41]\ttest-rmse:3.79323\n",
      "[42]\ttest-rmse:3.78980\n",
      "[43]\ttest-rmse:3.79090\n",
      "[44]\ttest-rmse:3.78908\n",
      "[45]\ttest-rmse:3.78976\n",
      "[46]\ttest-rmse:3.78581\n",
      "[47]\ttest-rmse:3.78442\n",
      "[48]\ttest-rmse:3.77953\n",
      "[49]\ttest-rmse:3.77859\n",
      "[50]\ttest-rmse:3.77879\n",
      "[51]\ttest-rmse:3.77551\n",
      "[52]\ttest-rmse:3.77659\n",
      "[53]\ttest-rmse:3.77719\n",
      "[54]\ttest-rmse:3.77768\n",
      "[55]\ttest-rmse:3.77913\n",
      "[56]\ttest-rmse:3.78009\n",
      "[57]\ttest-rmse:3.77404\n",
      "[58]\ttest-rmse:3.77330\n",
      "[59]\ttest-rmse:3.76639\n",
      "[60]\ttest-rmse:3.76186\n",
      "[61]\ttest-rmse:3.76014\n",
      "[62]\ttest-rmse:3.75814\n",
      "[63]\ttest-rmse:3.75796\n",
      "[64]\ttest-rmse:3.75719\n",
      "[65]\ttest-rmse:3.75317\n",
      "[66]\ttest-rmse:3.75526\n",
      "[67]\ttest-rmse:3.75558\n",
      "[68]\ttest-rmse:3.75457\n",
      "[69]\ttest-rmse:3.75334\n",
      "[70]\ttest-rmse:3.75149\n",
      "[71]\ttest-rmse:3.75098\n",
      "[72]\ttest-rmse:3.75020\n",
      "[73]\ttest-rmse:3.75126\n",
      "[74]\ttest-rmse:3.75105\n",
      "[75]\ttest-rmse:3.75002\n",
      "[76]\ttest-rmse:3.74806\n",
      "[77]\ttest-rmse:3.74821\n",
      "[78]\ttest-rmse:3.74835\n",
      "[79]\ttest-rmse:3.74851\n",
      "[80]\ttest-rmse:3.74867\n",
      "[81]\ttest-rmse:3.74810\n",
      "[82]\ttest-rmse:3.74852\n",
      "[83]\ttest-rmse:3.74771\n",
      "[84]\ttest-rmse:3.74819\n",
      "[85]\ttest-rmse:3.74917\n",
      "[86]\ttest-rmse:3.74941\n",
      "[87]\ttest-rmse:3.74781\n",
      "[88]\ttest-rmse:3.74742\n",
      "[89]\ttest-rmse:3.74748\n",
      "[90]\ttest-rmse:3.74789\n",
      "[91]\ttest-rmse:3.74778\n",
      "[92]\ttest-rmse:3.74762\n",
      "[93]\ttest-rmse:3.74396\n",
      "[94]\ttest-rmse:3.74329\n",
      "[95]\ttest-rmse:3.74290\n",
      "[96]\ttest-rmse:3.74317\n",
      "[97]\ttest-rmse:3.74301\n",
      "[98]\ttest-rmse:3.74426\n",
      "[99]\ttest-rmse:3.74317\n",
      "[100]\ttest-rmse:3.74315\n",
      "[101]\ttest-rmse:3.74339\n",
      "[102]\ttest-rmse:3.74342\n",
      "[103]\ttest-rmse:3.74406\n",
      "[104]\ttest-rmse:3.74339\n",
      "[105]\ttest-rmse:3.74235\n",
      "[106]\ttest-rmse:3.74137\n",
      "[107]\ttest-rmse:3.74062\n",
      "[108]\ttest-rmse:3.73941\n",
      "[109]\ttest-rmse:3.73897\n",
      "[110]\ttest-rmse:3.73818\n",
      "[111]\ttest-rmse:3.73851\n",
      "[112]\ttest-rmse:3.73836\n",
      "[113]\ttest-rmse:3.73794\n",
      "[114]\ttest-rmse:3.73675\n",
      "[115]\ttest-rmse:3.73537\n",
      "[116]\ttest-rmse:3.73484\n",
      "[117]\ttest-rmse:3.73452\n",
      "[118]\ttest-rmse:3.73406\n",
      "[119]\ttest-rmse:3.73403\n",
      "[120]\ttest-rmse:3.73405\n",
      "[121]\ttest-rmse:3.73447\n",
      "[122]\ttest-rmse:3.73435\n",
      "[123]\ttest-rmse:3.73471\n",
      "[124]\ttest-rmse:3.73534\n",
      "[125]\ttest-rmse:3.73447\n",
      "[126]\ttest-rmse:3.73572\n",
      "[127]\ttest-rmse:3.73494\n",
      "[128]\ttest-rmse:3.73489\n",
      "[129]\ttest-rmse:3.73495\n",
      "[130]\ttest-rmse:3.73512\n",
      "[131]\ttest-rmse:3.73550\n",
      "[132]\ttest-rmse:3.73613\n",
      "[133]\ttest-rmse:3.73648\n",
      "[134]\ttest-rmse:3.73776\n",
      "[135]\ttest-rmse:3.73751\n",
      "[136]\ttest-rmse:3.73820\n",
      "[137]\ttest-rmse:3.73826\n",
      "[138]\ttest-rmse:3.73836\n",
      "[139]\ttest-rmse:3.73802\n",
      "[140]\ttest-rmse:3.73771\n",
      "[141]\ttest-rmse:3.73748\n",
      "[142]\ttest-rmse:3.73769\n",
      "[143]\ttest-rmse:3.73701\n",
      "[144]\ttest-rmse:3.73698\n",
      "[145]\ttest-rmse:3.73842\n",
      "[146]\ttest-rmse:3.73853\n",
      "[147]\ttest-rmse:3.73858\n",
      "[148]\ttest-rmse:3.73824\n",
      "[149]\ttest-rmse:3.73793\n"
     ]
    }
   ],
   "source": [
    "xgb_model = XGBoost(X_train, X_val, y_train, y_val)"
   ]
  },
  {
   "cell_type": "code",
   "execution_count": 50,
   "id": "f372e302",
   "metadata": {},
   "outputs": [
    {
     "name": "stderr",
     "output_type": "stream",
     "text": [
      "C:\\ProgramData\\Anaconda3\\lib\\site-packages\\xgboost\\core.py:91: UserWarning: ntree_limit is deprecated, use `iteration_range` or model slicing instead.\n",
      "  warnings.warn(\n"
     ]
    }
   ],
   "source": [
    "y_train_pred = xgb_model.predict(xgb.DMatrix(X_train), ntree_limit = xgb_model.best_iteration)\n",
    "y_val_pred = xgb_model.predict(xgb.DMatrix(X_val), ntree_limit = xgb_model.best_iteration)"
   ]
  },
  {
   "cell_type": "code",
   "execution_count": 51,
   "id": "268c7239",
   "metadata": {},
   "outputs": [
    {
     "name": "stdout",
     "output_type": "stream",
     "text": [
      "Train set error:  2.9872710857083367\n",
      "Validation set error:  3.734059274961482\n"
     ]
    }
   ],
   "source": [
    "print(\"Train set error: \", np.sqrt(mse(y_train, y_train_pred)))\n",
    "print(\"Validation set error: \", np.sqrt(mse(y_val, y_val_pred)))"
   ]
  },
  {
   "cell_type": "code",
   "execution_count": 57,
   "id": "a270ca48",
   "metadata": {},
   "outputs": [
    {
     "data": {
      "text/html": [
       "<div>\n",
       "<style scoped>\n",
       "    .dataframe tbody tr th:only-of-type {\n",
       "        vertical-align: middle;\n",
       "    }\n",
       "\n",
       "    .dataframe tbody tr th {\n",
       "        vertical-align: top;\n",
       "    }\n",
       "\n",
       "    .dataframe thead th {\n",
       "        text-align: right;\n",
       "    }\n",
       "</style>\n",
       "<table border=\"1\" class=\"dataframe\">\n",
       "  <thead>\n",
       "    <tr style=\"text-align: right;\">\n",
       "      <th></th>\n",
       "      <th>key</th>\n",
       "      <th>pickup_longitude</th>\n",
       "      <th>pickup_latitude</th>\n",
       "      <th>dropoff_longitude</th>\n",
       "      <th>dropoff_latitude</th>\n",
       "      <th>passenger_count</th>\n",
       "      <th>hour</th>\n",
       "      <th>day</th>\n",
       "      <th>month</th>\n",
       "      <th>year</th>\n",
       "      <th>distance_to_center</th>\n",
       "      <th>pickup_distance_to_jfk</th>\n",
       "      <th>dropoff_distance_to_jfk</th>\n",
       "      <th>pickup_distance_to_ewr</th>\n",
       "      <th>dropoff_distance_to_ewr</th>\n",
       "      <th>pickup_distance_to_lgr</th>\n",
       "      <th>dropoff_distance_to_lgr</th>\n",
       "      <th>long_diff</th>\n",
       "      <th>lat_diff</th>\n",
       "      <th>manhattan_dist</th>\n",
       "    </tr>\n",
       "  </thead>\n",
       "  <tbody>\n",
       "    <tr>\n",
       "      <th>0</th>\n",
       "      <td>2015-01-27 13:08:24.0000002</td>\n",
       "      <td>-73.97332</td>\n",
       "      <td>40.76381</td>\n",
       "      <td>-73.98143</td>\n",
       "      <td>40.74384</td>\n",
       "      <td>1</td>\n",
       "      <td>13</td>\n",
       "      <td>27</td>\n",
       "      <td>1</td>\n",
       "      <td>2015</td>\n",
       "      <td>229.45768</td>\n",
       "      <td>0.31074</td>\n",
       "      <td>0.29888</td>\n",
       "      <td>0.27549</td>\n",
       "      <td>0.24741</td>\n",
       "      <td>0.10951</td>\n",
       "      <td>0.13759</td>\n",
       "      <td>-0.00811</td>\n",
       "      <td>-0.01997</td>\n",
       "      <td>0.02808</td>\n",
       "    </tr>\n",
       "    <tr>\n",
       "      <th>1</th>\n",
       "      <td>2015-01-27 13:08:24.0000003</td>\n",
       "      <td>-73.98686</td>\n",
       "      <td>40.71938</td>\n",
       "      <td>-73.99889</td>\n",
       "      <td>40.73920</td>\n",
       "      <td>1</td>\n",
       "      <td>13</td>\n",
       "      <td>27</td>\n",
       "      <td>1</td>\n",
       "      <td>2015</td>\n",
       "      <td>229.42680</td>\n",
       "      <td>0.27986</td>\n",
       "      <td>0.31170</td>\n",
       "      <td>0.21752</td>\n",
       "      <td>0.22531</td>\n",
       "      <td>0.16748</td>\n",
       "      <td>0.15969</td>\n",
       "      <td>-0.01202</td>\n",
       "      <td>0.01982</td>\n",
       "      <td>0.03184</td>\n",
       "    </tr>\n",
       "    <tr>\n",
       "      <th>2</th>\n",
       "      <td>2011-10-08 11:53:44.0000002</td>\n",
       "      <td>-73.98252</td>\n",
       "      <td>40.75126</td>\n",
       "      <td>-73.97965</td>\n",
       "      <td>40.74614</td>\n",
       "      <td>1</td>\n",
       "      <td>11</td>\n",
       "      <td>8</td>\n",
       "      <td>10</td>\n",
       "      <td>2011</td>\n",
       "      <td>229.45434</td>\n",
       "      <td>0.30740</td>\n",
       "      <td>0.29940</td>\n",
       "      <td>0.25374</td>\n",
       "      <td>0.25149</td>\n",
       "      <td>0.13126</td>\n",
       "      <td>0.13351</td>\n",
       "      <td>0.00287</td>\n",
       "      <td>-0.00512</td>\n",
       "      <td>0.00799</td>\n",
       "    </tr>\n",
       "    <tr>\n",
       "      <th>3</th>\n",
       "      <td>2012-12-01 21:12:12.0000002</td>\n",
       "      <td>-73.98116</td>\n",
       "      <td>40.76781</td>\n",
       "      <td>-73.99045</td>\n",
       "      <td>40.75164</td>\n",
       "      <td>1</td>\n",
       "      <td>21</td>\n",
       "      <td>1</td>\n",
       "      <td>12</td>\n",
       "      <td>2012</td>\n",
       "      <td>229.46952</td>\n",
       "      <td>0.32258</td>\n",
       "      <td>0.31569</td>\n",
       "      <td>0.27165</td>\n",
       "      <td>0.24619</td>\n",
       "      <td>0.11335</td>\n",
       "      <td>0.13881</td>\n",
       "      <td>-0.00929</td>\n",
       "      <td>-0.01617</td>\n",
       "      <td>0.02546</td>\n",
       "    </tr>\n",
       "    <tr>\n",
       "      <th>4</th>\n",
       "      <td>2012-12-01 21:12:12.0000003</td>\n",
       "      <td>-73.96605</td>\n",
       "      <td>40.78977</td>\n",
       "      <td>-73.98856</td>\n",
       "      <td>40.74443</td>\n",
       "      <td>1</td>\n",
       "      <td>21</td>\n",
       "      <td>1</td>\n",
       "      <td>12</td>\n",
       "      <td>2012</td>\n",
       "      <td>229.47638</td>\n",
       "      <td>0.32943</td>\n",
       "      <td>0.30660</td>\n",
       "      <td>0.30873</td>\n",
       "      <td>0.24086</td>\n",
       "      <td>0.11582</td>\n",
       "      <td>0.14414</td>\n",
       "      <td>-0.02252</td>\n",
       "      <td>-0.04535</td>\n",
       "      <td>0.06787</td>\n",
       "    </tr>\n",
       "  </tbody>\n",
       "</table>\n",
       "</div>"
      ],
      "text/plain": [
       "                           key  pickup_longitude  pickup_latitude  \\\n",
       "0  2015-01-27 13:08:24.0000002         -73.97332         40.76381   \n",
       "1  2015-01-27 13:08:24.0000003         -73.98686         40.71938   \n",
       "2  2011-10-08 11:53:44.0000002         -73.98252         40.75126   \n",
       "3  2012-12-01 21:12:12.0000002         -73.98116         40.76781   \n",
       "4  2012-12-01 21:12:12.0000003         -73.96605         40.78977   \n",
       "\n",
       "   dropoff_longitude  dropoff_latitude  passenger_count  hour  day  month  \\\n",
       "0          -73.98143          40.74384                1    13   27      1   \n",
       "1          -73.99889          40.73920                1    13   27      1   \n",
       "2          -73.97965          40.74614                1    11    8     10   \n",
       "3          -73.99045          40.75164                1    21    1     12   \n",
       "4          -73.98856          40.74443                1    21    1     12   \n",
       "\n",
       "   year  distance_to_center  pickup_distance_to_jfk  dropoff_distance_to_jfk  \\\n",
       "0  2015           229.45768                 0.31074                  0.29888   \n",
       "1  2015           229.42680                 0.27986                  0.31170   \n",
       "2  2011           229.45434                 0.30740                  0.29940   \n",
       "3  2012           229.46952                 0.32258                  0.31569   \n",
       "4  2012           229.47638                 0.32943                  0.30660   \n",
       "\n",
       "   pickup_distance_to_ewr  dropoff_distance_to_ewr  pickup_distance_to_lgr  \\\n",
       "0                 0.27549                  0.24741                 0.10951   \n",
       "1                 0.21752                  0.22531                 0.16748   \n",
       "2                 0.25374                  0.25149                 0.13126   \n",
       "3                 0.27165                  0.24619                 0.11335   \n",
       "4                 0.30873                  0.24086                 0.11582   \n",
       "\n",
       "   dropoff_distance_to_lgr  long_diff  lat_diff  manhattan_dist  \n",
       "0                  0.13759   -0.00811  -0.01997         0.02808  \n",
       "1                  0.15969   -0.01202   0.01982         0.03184  \n",
       "2                  0.13351    0.00287  -0.00512         0.00799  \n",
       "3                  0.13881   -0.00929  -0.01617         0.02546  \n",
       "4                  0.14414   -0.02252  -0.04535         0.06787  "
      ]
     },
     "execution_count": 57,
     "metadata": {},
     "output_type": "execute_result"
    }
   ],
   "source": [
    "test.head()"
   ]
  },
  {
   "cell_type": "code",
   "execution_count": 59,
   "id": "820b61ac",
   "metadata": {},
   "outputs": [
    {
     "ename": "KeyError",
     "evalue": "\"['key'] not found in axis\"",
     "output_type": "error",
     "traceback": [
      "\u001b[1;31m---------------------------------------------------------------------------\u001b[0m",
      "\u001b[1;31mKeyError\u001b[0m                                  Traceback (most recent call last)",
      "\u001b[1;32m<ipython-input-59-7f374b25cba4>\u001b[0m in \u001b[0;36m<module>\u001b[1;34m\u001b[0m\n\u001b[1;32m----> 1\u001b[1;33m \u001b[0mtrain\u001b[0m\u001b[1;33m.\u001b[0m\u001b[0mdrop\u001b[0m\u001b[1;33m(\u001b[0m\u001b[1;34m'key'\u001b[0m\u001b[1;33m,\u001b[0m \u001b[0maxis\u001b[0m\u001b[1;33m=\u001b[0m\u001b[1;36m1\u001b[0m\u001b[1;33m,\u001b[0m \u001b[0minplace\u001b[0m\u001b[1;33m=\u001b[0m\u001b[1;32mTrue\u001b[0m\u001b[1;33m)\u001b[0m\u001b[1;33m\u001b[0m\u001b[1;33m\u001b[0m\u001b[0m\n\u001b[0m",
      "\u001b[1;32mC:\\ProgramData\\Anaconda3\\lib\\site-packages\\pandas\\core\\frame.py\u001b[0m in \u001b[0;36mdrop\u001b[1;34m(self, labels, axis, index, columns, level, inplace, errors)\u001b[0m\n\u001b[0;32m   4306\u001b[0m                 \u001b[0mweight\u001b[0m  \u001b[1;36m1.0\u001b[0m     \u001b[1;36m0.8\u001b[0m\u001b[1;33m\u001b[0m\u001b[1;33m\u001b[0m\u001b[0m\n\u001b[0;32m   4307\u001b[0m         \"\"\"\n\u001b[1;32m-> 4308\u001b[1;33m         return super().drop(\n\u001b[0m\u001b[0;32m   4309\u001b[0m             \u001b[0mlabels\u001b[0m\u001b[1;33m=\u001b[0m\u001b[0mlabels\u001b[0m\u001b[1;33m,\u001b[0m\u001b[1;33m\u001b[0m\u001b[1;33m\u001b[0m\u001b[0m\n\u001b[0;32m   4310\u001b[0m             \u001b[0maxis\u001b[0m\u001b[1;33m=\u001b[0m\u001b[0maxis\u001b[0m\u001b[1;33m,\u001b[0m\u001b[1;33m\u001b[0m\u001b[1;33m\u001b[0m\u001b[0m\n",
      "\u001b[1;32mC:\\ProgramData\\Anaconda3\\lib\\site-packages\\pandas\\core\\generic.py\u001b[0m in \u001b[0;36mdrop\u001b[1;34m(self, labels, axis, index, columns, level, inplace, errors)\u001b[0m\n\u001b[0;32m   4151\u001b[0m         \u001b[1;32mfor\u001b[0m \u001b[0maxis\u001b[0m\u001b[1;33m,\u001b[0m \u001b[0mlabels\u001b[0m \u001b[1;32min\u001b[0m \u001b[0maxes\u001b[0m\u001b[1;33m.\u001b[0m\u001b[0mitems\u001b[0m\u001b[1;33m(\u001b[0m\u001b[1;33m)\u001b[0m\u001b[1;33m:\u001b[0m\u001b[1;33m\u001b[0m\u001b[1;33m\u001b[0m\u001b[0m\n\u001b[0;32m   4152\u001b[0m             \u001b[1;32mif\u001b[0m \u001b[0mlabels\u001b[0m \u001b[1;32mis\u001b[0m \u001b[1;32mnot\u001b[0m \u001b[1;32mNone\u001b[0m\u001b[1;33m:\u001b[0m\u001b[1;33m\u001b[0m\u001b[1;33m\u001b[0m\u001b[0m\n\u001b[1;32m-> 4153\u001b[1;33m                 \u001b[0mobj\u001b[0m \u001b[1;33m=\u001b[0m \u001b[0mobj\u001b[0m\u001b[1;33m.\u001b[0m\u001b[0m_drop_axis\u001b[0m\u001b[1;33m(\u001b[0m\u001b[0mlabels\u001b[0m\u001b[1;33m,\u001b[0m \u001b[0maxis\u001b[0m\u001b[1;33m,\u001b[0m \u001b[0mlevel\u001b[0m\u001b[1;33m=\u001b[0m\u001b[0mlevel\u001b[0m\u001b[1;33m,\u001b[0m \u001b[0merrors\u001b[0m\u001b[1;33m=\u001b[0m\u001b[0merrors\u001b[0m\u001b[1;33m)\u001b[0m\u001b[1;33m\u001b[0m\u001b[1;33m\u001b[0m\u001b[0m\n\u001b[0m\u001b[0;32m   4154\u001b[0m \u001b[1;33m\u001b[0m\u001b[0m\n\u001b[0;32m   4155\u001b[0m         \u001b[1;32mif\u001b[0m \u001b[0minplace\u001b[0m\u001b[1;33m:\u001b[0m\u001b[1;33m\u001b[0m\u001b[1;33m\u001b[0m\u001b[0m\n",
      "\u001b[1;32mC:\\ProgramData\\Anaconda3\\lib\\site-packages\\pandas\\core\\generic.py\u001b[0m in \u001b[0;36m_drop_axis\u001b[1;34m(self, labels, axis, level, errors)\u001b[0m\n\u001b[0;32m   4186\u001b[0m                 \u001b[0mnew_axis\u001b[0m \u001b[1;33m=\u001b[0m \u001b[0maxis\u001b[0m\u001b[1;33m.\u001b[0m\u001b[0mdrop\u001b[0m\u001b[1;33m(\u001b[0m\u001b[0mlabels\u001b[0m\u001b[1;33m,\u001b[0m \u001b[0mlevel\u001b[0m\u001b[1;33m=\u001b[0m\u001b[0mlevel\u001b[0m\u001b[1;33m,\u001b[0m \u001b[0merrors\u001b[0m\u001b[1;33m=\u001b[0m\u001b[0merrors\u001b[0m\u001b[1;33m)\u001b[0m\u001b[1;33m\u001b[0m\u001b[1;33m\u001b[0m\u001b[0m\n\u001b[0;32m   4187\u001b[0m             \u001b[1;32melse\u001b[0m\u001b[1;33m:\u001b[0m\u001b[1;33m\u001b[0m\u001b[1;33m\u001b[0m\u001b[0m\n\u001b[1;32m-> 4188\u001b[1;33m                 \u001b[0mnew_axis\u001b[0m \u001b[1;33m=\u001b[0m \u001b[0maxis\u001b[0m\u001b[1;33m.\u001b[0m\u001b[0mdrop\u001b[0m\u001b[1;33m(\u001b[0m\u001b[0mlabels\u001b[0m\u001b[1;33m,\u001b[0m \u001b[0merrors\u001b[0m\u001b[1;33m=\u001b[0m\u001b[0merrors\u001b[0m\u001b[1;33m)\u001b[0m\u001b[1;33m\u001b[0m\u001b[1;33m\u001b[0m\u001b[0m\n\u001b[0m\u001b[0;32m   4189\u001b[0m             \u001b[0mresult\u001b[0m \u001b[1;33m=\u001b[0m \u001b[0mself\u001b[0m\u001b[1;33m.\u001b[0m\u001b[0mreindex\u001b[0m\u001b[1;33m(\u001b[0m\u001b[1;33m**\u001b[0m\u001b[1;33m{\u001b[0m\u001b[0maxis_name\u001b[0m\u001b[1;33m:\u001b[0m \u001b[0mnew_axis\u001b[0m\u001b[1;33m}\u001b[0m\u001b[1;33m)\u001b[0m\u001b[1;33m\u001b[0m\u001b[1;33m\u001b[0m\u001b[0m\n\u001b[0;32m   4190\u001b[0m \u001b[1;33m\u001b[0m\u001b[0m\n",
      "\u001b[1;32mC:\\ProgramData\\Anaconda3\\lib\\site-packages\\pandas\\core\\indexes\\base.py\u001b[0m in \u001b[0;36mdrop\u001b[1;34m(self, labels, errors)\u001b[0m\n\u001b[0;32m   5589\u001b[0m         \u001b[1;32mif\u001b[0m \u001b[0mmask\u001b[0m\u001b[1;33m.\u001b[0m\u001b[0many\u001b[0m\u001b[1;33m(\u001b[0m\u001b[1;33m)\u001b[0m\u001b[1;33m:\u001b[0m\u001b[1;33m\u001b[0m\u001b[1;33m\u001b[0m\u001b[0m\n\u001b[0;32m   5590\u001b[0m             \u001b[1;32mif\u001b[0m \u001b[0merrors\u001b[0m \u001b[1;33m!=\u001b[0m \u001b[1;34m\"ignore\"\u001b[0m\u001b[1;33m:\u001b[0m\u001b[1;33m\u001b[0m\u001b[1;33m\u001b[0m\u001b[0m\n\u001b[1;32m-> 5591\u001b[1;33m                 \u001b[1;32mraise\u001b[0m \u001b[0mKeyError\u001b[0m\u001b[1;33m(\u001b[0m\u001b[1;34mf\"{labels[mask]} not found in axis\"\u001b[0m\u001b[1;33m)\u001b[0m\u001b[1;33m\u001b[0m\u001b[1;33m\u001b[0m\u001b[0m\n\u001b[0m\u001b[0;32m   5592\u001b[0m             \u001b[0mindexer\u001b[0m \u001b[1;33m=\u001b[0m \u001b[0mindexer\u001b[0m\u001b[1;33m[\u001b[0m\u001b[1;33m~\u001b[0m\u001b[0mmask\u001b[0m\u001b[1;33m]\u001b[0m\u001b[1;33m\u001b[0m\u001b[1;33m\u001b[0m\u001b[0m\n\u001b[0;32m   5593\u001b[0m         \u001b[1;32mreturn\u001b[0m \u001b[0mself\u001b[0m\u001b[1;33m.\u001b[0m\u001b[0mdelete\u001b[0m\u001b[1;33m(\u001b[0m\u001b[0mindexer\u001b[0m\u001b[1;33m)\u001b[0m\u001b[1;33m\u001b[0m\u001b[1;33m\u001b[0m\u001b[0m\n",
      "\u001b[1;31mKeyError\u001b[0m: \"['key'] not found in axis\""
     ]
    }
   ],
   "source": [
    "train.drop('key', axis=1, inplace=True)"
   ]
  },
  {
   "cell_type": "code",
   "execution_count": 65,
   "id": "98e7379b",
   "metadata": {},
   "outputs": [],
   "source": [
    "test['manhattan_dist'] = manhattan_dist(test['pickup_latitude'], test['pickup_longitude'], test['dropoff_latitude'] , test['dropoff_longitude'])\n",
    "test_key = test['key']\n",
    "x_pred = test.drop(columns=['key', 'passenger_count'])\n",
    "x_pred = test.drop(columns=['key'])\n",
    "\n",
    "\n",
    "\n",
    "# Predict from test set\n",
    "prediction = xgb_model.predict(xgb.DMatrix(x_pred))"
   ]
  },
  {
   "cell_type": "code",
   "execution_count": 66,
   "id": "dd6efbc1",
   "metadata": {},
   "outputs": [
    {
     "data": {
      "text/html": [
       "<div>\n",
       "<style scoped>\n",
       "    .dataframe tbody tr th:only-of-type {\n",
       "        vertical-align: middle;\n",
       "    }\n",
       "\n",
       "    .dataframe tbody tr th {\n",
       "        vertical-align: top;\n",
       "    }\n",
       "\n",
       "    .dataframe thead th {\n",
       "        text-align: right;\n",
       "    }\n",
       "</style>\n",
       "<table border=\"1\" class=\"dataframe\">\n",
       "  <thead>\n",
       "    <tr style=\"text-align: right;\">\n",
       "      <th></th>\n",
       "      <th>key</th>\n",
       "      <th>pickup_longitude</th>\n",
       "      <th>pickup_latitude</th>\n",
       "      <th>dropoff_longitude</th>\n",
       "      <th>dropoff_latitude</th>\n",
       "      <th>passenger_count</th>\n",
       "      <th>hour</th>\n",
       "      <th>day</th>\n",
       "      <th>month</th>\n",
       "      <th>year</th>\n",
       "      <th>distance_to_center</th>\n",
       "      <th>pickup_distance_to_jfk</th>\n",
       "      <th>dropoff_distance_to_jfk</th>\n",
       "      <th>pickup_distance_to_ewr</th>\n",
       "      <th>dropoff_distance_to_ewr</th>\n",
       "      <th>pickup_distance_to_lgr</th>\n",
       "      <th>dropoff_distance_to_lgr</th>\n",
       "      <th>long_diff</th>\n",
       "      <th>lat_diff</th>\n",
       "      <th>manhattan_dist</th>\n",
       "    </tr>\n",
       "  </thead>\n",
       "  <tbody>\n",
       "    <tr>\n",
       "      <th>0</th>\n",
       "      <td>2015-01-27 13:08:24.0000002</td>\n",
       "      <td>-73.97332</td>\n",
       "      <td>40.76381</td>\n",
       "      <td>-73.98143</td>\n",
       "      <td>40.74384</td>\n",
       "      <td>1</td>\n",
       "      <td>13</td>\n",
       "      <td>27</td>\n",
       "      <td>1</td>\n",
       "      <td>2015</td>\n",
       "      <td>229.45768</td>\n",
       "      <td>0.31074</td>\n",
       "      <td>0.29888</td>\n",
       "      <td>0.27549</td>\n",
       "      <td>0.24741</td>\n",
       "      <td>0.10951</td>\n",
       "      <td>0.13759</td>\n",
       "      <td>-0.00811</td>\n",
       "      <td>-0.01997</td>\n",
       "      <td>0.02808</td>\n",
       "    </tr>\n",
       "    <tr>\n",
       "      <th>1</th>\n",
       "      <td>2015-01-27 13:08:24.0000003</td>\n",
       "      <td>-73.98686</td>\n",
       "      <td>40.71938</td>\n",
       "      <td>-73.99889</td>\n",
       "      <td>40.73920</td>\n",
       "      <td>1</td>\n",
       "      <td>13</td>\n",
       "      <td>27</td>\n",
       "      <td>1</td>\n",
       "      <td>2015</td>\n",
       "      <td>229.42680</td>\n",
       "      <td>0.27986</td>\n",
       "      <td>0.31170</td>\n",
       "      <td>0.21752</td>\n",
       "      <td>0.22531</td>\n",
       "      <td>0.16748</td>\n",
       "      <td>0.15969</td>\n",
       "      <td>-0.01202</td>\n",
       "      <td>0.01982</td>\n",
       "      <td>0.03184</td>\n",
       "    </tr>\n",
       "    <tr>\n",
       "      <th>2</th>\n",
       "      <td>2011-10-08 11:53:44.0000002</td>\n",
       "      <td>-73.98252</td>\n",
       "      <td>40.75126</td>\n",
       "      <td>-73.97965</td>\n",
       "      <td>40.74614</td>\n",
       "      <td>1</td>\n",
       "      <td>11</td>\n",
       "      <td>8</td>\n",
       "      <td>10</td>\n",
       "      <td>2011</td>\n",
       "      <td>229.45434</td>\n",
       "      <td>0.30740</td>\n",
       "      <td>0.29940</td>\n",
       "      <td>0.25374</td>\n",
       "      <td>0.25149</td>\n",
       "      <td>0.13126</td>\n",
       "      <td>0.13351</td>\n",
       "      <td>0.00287</td>\n",
       "      <td>-0.00512</td>\n",
       "      <td>0.00799</td>\n",
       "    </tr>\n",
       "    <tr>\n",
       "      <th>3</th>\n",
       "      <td>2012-12-01 21:12:12.0000002</td>\n",
       "      <td>-73.98116</td>\n",
       "      <td>40.76781</td>\n",
       "      <td>-73.99045</td>\n",
       "      <td>40.75164</td>\n",
       "      <td>1</td>\n",
       "      <td>21</td>\n",
       "      <td>1</td>\n",
       "      <td>12</td>\n",
       "      <td>2012</td>\n",
       "      <td>229.46952</td>\n",
       "      <td>0.32258</td>\n",
       "      <td>0.31569</td>\n",
       "      <td>0.27165</td>\n",
       "      <td>0.24619</td>\n",
       "      <td>0.11335</td>\n",
       "      <td>0.13881</td>\n",
       "      <td>-0.00929</td>\n",
       "      <td>-0.01617</td>\n",
       "      <td>0.02546</td>\n",
       "    </tr>\n",
       "    <tr>\n",
       "      <th>4</th>\n",
       "      <td>2012-12-01 21:12:12.0000003</td>\n",
       "      <td>-73.96605</td>\n",
       "      <td>40.78977</td>\n",
       "      <td>-73.98856</td>\n",
       "      <td>40.74443</td>\n",
       "      <td>1</td>\n",
       "      <td>21</td>\n",
       "      <td>1</td>\n",
       "      <td>12</td>\n",
       "      <td>2012</td>\n",
       "      <td>229.47638</td>\n",
       "      <td>0.32943</td>\n",
       "      <td>0.30660</td>\n",
       "      <td>0.30873</td>\n",
       "      <td>0.24086</td>\n",
       "      <td>0.11582</td>\n",
       "      <td>0.14414</td>\n",
       "      <td>-0.02252</td>\n",
       "      <td>-0.04535</td>\n",
       "      <td>0.06787</td>\n",
       "    </tr>\n",
       "  </tbody>\n",
       "</table>\n",
       "</div>"
      ],
      "text/plain": [
       "                           key  pickup_longitude  pickup_latitude  \\\n",
       "0  2015-01-27 13:08:24.0000002         -73.97332         40.76381   \n",
       "1  2015-01-27 13:08:24.0000003         -73.98686         40.71938   \n",
       "2  2011-10-08 11:53:44.0000002         -73.98252         40.75126   \n",
       "3  2012-12-01 21:12:12.0000002         -73.98116         40.76781   \n",
       "4  2012-12-01 21:12:12.0000003         -73.96605         40.78977   \n",
       "\n",
       "   dropoff_longitude  dropoff_latitude  passenger_count  hour  day  month  \\\n",
       "0          -73.98143          40.74384                1    13   27      1   \n",
       "1          -73.99889          40.73920                1    13   27      1   \n",
       "2          -73.97965          40.74614                1    11    8     10   \n",
       "3          -73.99045          40.75164                1    21    1     12   \n",
       "4          -73.98856          40.74443                1    21    1     12   \n",
       "\n",
       "   year  distance_to_center  pickup_distance_to_jfk  dropoff_distance_to_jfk  \\\n",
       "0  2015           229.45768                 0.31074                  0.29888   \n",
       "1  2015           229.42680                 0.27986                  0.31170   \n",
       "2  2011           229.45434                 0.30740                  0.29940   \n",
       "3  2012           229.46952                 0.32258                  0.31569   \n",
       "4  2012           229.47638                 0.32943                  0.30660   \n",
       "\n",
       "   pickup_distance_to_ewr  dropoff_distance_to_ewr  pickup_distance_to_lgr  \\\n",
       "0                 0.27549                  0.24741                 0.10951   \n",
       "1                 0.21752                  0.22531                 0.16748   \n",
       "2                 0.25374                  0.25149                 0.13126   \n",
       "3                 0.27165                  0.24619                 0.11335   \n",
       "4                 0.30873                  0.24086                 0.11582   \n",
       "\n",
       "   dropoff_distance_to_lgr  long_diff  lat_diff  manhattan_dist  \n",
       "0                  0.13759   -0.00811  -0.01997         0.02808  \n",
       "1                  0.15969   -0.01202   0.01982         0.03184  \n",
       "2                  0.13351    0.00287  -0.00512         0.00799  \n",
       "3                  0.13881   -0.00929  -0.01617         0.02546  \n",
       "4                  0.14414   -0.02252  -0.04535         0.06787  "
      ]
     },
     "execution_count": 66,
     "metadata": {},
     "output_type": "execute_result"
    }
   ],
   "source": [
    "test.head()"
   ]
  },
  {
   "cell_type": "code",
   "execution_count": 67,
   "id": "c860e8f5",
   "metadata": {},
   "outputs": [
    {
     "data": {
      "text/html": [
       "<div>\n",
       "<style scoped>\n",
       "    .dataframe tbody tr th:only-of-type {\n",
       "        vertical-align: middle;\n",
       "    }\n",
       "\n",
       "    .dataframe tbody tr th {\n",
       "        vertical-align: top;\n",
       "    }\n",
       "\n",
       "    .dataframe thead th {\n",
       "        text-align: right;\n",
       "    }\n",
       "</style>\n",
       "<table border=\"1\" class=\"dataframe\">\n",
       "  <thead>\n",
       "    <tr style=\"text-align: right;\">\n",
       "      <th></th>\n",
       "      <th>fare_amount</th>\n",
       "      <th>pickup_datetime</th>\n",
       "      <th>pickup_longitude</th>\n",
       "      <th>pickup_latitude</th>\n",
       "      <th>dropoff_longitude</th>\n",
       "      <th>dropoff_latitude</th>\n",
       "      <th>passenger_count</th>\n",
       "    </tr>\n",
       "  </thead>\n",
       "  <tbody>\n",
       "    <tr>\n",
       "      <th>0</th>\n",
       "      <td>4.50000</td>\n",
       "      <td>2009-06-15 17:26:21+00:00</td>\n",
       "      <td>-73.84431</td>\n",
       "      <td>40.72132</td>\n",
       "      <td>-73.84161</td>\n",
       "      <td>40.71228</td>\n",
       "      <td>1</td>\n",
       "    </tr>\n",
       "    <tr>\n",
       "      <th>1</th>\n",
       "      <td>16.90000</td>\n",
       "      <td>2010-01-05 16:52:16+00:00</td>\n",
       "      <td>-74.01605</td>\n",
       "      <td>40.71130</td>\n",
       "      <td>-73.97927</td>\n",
       "      <td>40.78200</td>\n",
       "      <td>1</td>\n",
       "    </tr>\n",
       "    <tr>\n",
       "      <th>2</th>\n",
       "      <td>5.70000</td>\n",
       "      <td>2011-08-18 00:35:00+00:00</td>\n",
       "      <td>-73.98274</td>\n",
       "      <td>40.76127</td>\n",
       "      <td>-73.99124</td>\n",
       "      <td>40.75056</td>\n",
       "      <td>2</td>\n",
       "    </tr>\n",
       "    <tr>\n",
       "      <th>3</th>\n",
       "      <td>7.70000</td>\n",
       "      <td>2012-04-21 04:30:42+00:00</td>\n",
       "      <td>-73.98713</td>\n",
       "      <td>40.73314</td>\n",
       "      <td>-73.99157</td>\n",
       "      <td>40.75809</td>\n",
       "      <td>1</td>\n",
       "    </tr>\n",
       "    <tr>\n",
       "      <th>4</th>\n",
       "      <td>5.30000</td>\n",
       "      <td>2010-03-09 07:51:00+00:00</td>\n",
       "      <td>-73.96810</td>\n",
       "      <td>40.76801</td>\n",
       "      <td>-73.95665</td>\n",
       "      <td>40.78376</td>\n",
       "      <td>1</td>\n",
       "    </tr>\n",
       "  </tbody>\n",
       "</table>\n",
       "</div>"
      ],
      "text/plain": [
       "   fare_amount           pickup_datetime  pickup_longitude  pickup_latitude  \\\n",
       "0      4.50000 2009-06-15 17:26:21+00:00         -73.84431         40.72132   \n",
       "1     16.90000 2010-01-05 16:52:16+00:00         -74.01605         40.71130   \n",
       "2      5.70000 2011-08-18 00:35:00+00:00         -73.98274         40.76127   \n",
       "3      7.70000 2012-04-21 04:30:42+00:00         -73.98713         40.73314   \n",
       "4      5.30000 2010-03-09 07:51:00+00:00         -73.96810         40.76801   \n",
       "\n",
       "   dropoff_longitude  dropoff_latitude  passenger_count  \n",
       "0          -73.84161          40.71228                1  \n",
       "1          -73.97927          40.78200                1  \n",
       "2          -73.99124          40.75056                2  \n",
       "3          -73.99157          40.75809                1  \n",
       "4          -73.95665          40.78376                1  "
      ]
     },
     "execution_count": 67,
     "metadata": {},
     "output_type": "execute_result"
    }
   ],
   "source": [
    "train.head()"
   ]
  },
  {
   "cell_type": "code",
   "execution_count": 68,
   "id": "dc4fd67e",
   "metadata": {},
   "outputs": [
    {
     "data": {
      "text/plain": [
       "9914"
      ]
     },
     "execution_count": 68,
     "metadata": {},
     "output_type": "execute_result"
    }
   ],
   "source": [
    "len(x_pred)"
   ]
  },
  {
   "cell_type": "code",
   "execution_count": 69,
   "id": "b622e630",
   "metadata": {},
   "outputs": [],
   "source": [
    "prediction = prediction.round(2)"
   ]
  },
  {
   "cell_type": "code",
   "execution_count": 70,
   "id": "9f872c0b",
   "metadata": {},
   "outputs": [],
   "source": [
    "submission = pd.DataFrame({\n",
    "        \"key\": test_key,\n",
    "        \"fare_amount\": prediction\n",
    "})\n",
    "\n",
    "submission.to_csv('submission.csv',index=False)"
   ]
  },
  {
   "cell_type": "code",
   "execution_count": 71,
   "id": "08ec3b3e",
   "metadata": {},
   "outputs": [
    {
     "data": {
      "text/html": [
       "<div>\n",
       "<style scoped>\n",
       "    .dataframe tbody tr th:only-of-type {\n",
       "        vertical-align: middle;\n",
       "    }\n",
       "\n",
       "    .dataframe tbody tr th {\n",
       "        vertical-align: top;\n",
       "    }\n",
       "\n",
       "    .dataframe thead th {\n",
       "        text-align: right;\n",
       "    }\n",
       "</style>\n",
       "<table border=\"1\" class=\"dataframe\">\n",
       "  <thead>\n",
       "    <tr style=\"text-align: right;\">\n",
       "      <th></th>\n",
       "      <th>key</th>\n",
       "      <th>fare_amount</th>\n",
       "    </tr>\n",
       "  </thead>\n",
       "  <tbody>\n",
       "    <tr>\n",
       "      <th>0</th>\n",
       "      <td>2015-01-27 13:08:24.0000002</td>\n",
       "      <td>9.89000</td>\n",
       "    </tr>\n",
       "    <tr>\n",
       "      <th>1</th>\n",
       "      <td>2015-01-27 13:08:24.0000003</td>\n",
       "      <td>10.54000</td>\n",
       "    </tr>\n",
       "    <tr>\n",
       "      <th>2</th>\n",
       "      <td>2011-10-08 11:53:44.0000002</td>\n",
       "      <td>4.71000</td>\n",
       "    </tr>\n",
       "    <tr>\n",
       "      <th>3</th>\n",
       "      <td>2012-12-01 21:12:12.0000002</td>\n",
       "      <td>7.98000</td>\n",
       "    </tr>\n",
       "    <tr>\n",
       "      <th>4</th>\n",
       "      <td>2012-12-01 21:12:12.0000003</td>\n",
       "      <td>15.25000</td>\n",
       "    </tr>\n",
       "  </tbody>\n",
       "</table>\n",
       "</div>"
      ],
      "text/plain": [
       "                           key  fare_amount\n",
       "0  2015-01-27 13:08:24.0000002      9.89000\n",
       "1  2015-01-27 13:08:24.0000003     10.54000\n",
       "2  2011-10-08 11:53:44.0000002      4.71000\n",
       "3  2012-12-01 21:12:12.0000002      7.98000\n",
       "4  2012-12-01 21:12:12.0000003     15.25000"
      ]
     },
     "execution_count": 71,
     "metadata": {},
     "output_type": "execute_result"
    }
   ],
   "source": [
    "pd.read_csv('submission.csv').head()"
   ]
  },
  {
   "cell_type": "code",
   "execution_count": 72,
   "id": "5e417b85",
   "metadata": {},
   "outputs": [
    {
     "name": "stdout",
     "output_type": "stream",
     "text": [
      "Plotting Feature Importance\n"
     ]
    },
    {
     "data": {
      "image/png": "[encoded data removed]",
      "text/plain": [
       "<Figure size 864x1152 with 1 Axes>"
      ]
     },
     "metadata": {
      "needs_background": "light"
     },
     "output_type": "display_data"
    }
   ],
   "source": [
    "print('Plotting Feature Importance')\n",
    "fig, ax = plt.subplots(figsize=(12,16))\n",
    "xgb.plot_importance(xgb_model, height=0.7, ax=ax)\n",
    "ax.grid(False)\n",
    "plt.title(\"XGBoost - Feature Importance\", fontsize=14)\n",
    "plt.show()"
   ]
  },
  {
   "cell_type": "code",
   "execution_count": 101,
   "id": "5a099f00",
   "metadata": {},
   "outputs": [],
   "source": [
    "from sklearn.model_selection import GridSearchCV\n",
    "from sklearn.model_selection import RandomizedSearchCV"
   ]
  },
  {
   "cell_type": "code",
   "execution_count": 102,
   "id": "35cbec3e",
   "metadata": {},
   "outputs": [],
   "source": [
    "parameters = {'xg__learning_rate':  [0.03, 0.05], # learning rate decides what percentage\n",
    "                                                  #  of error is to be fitted by\n",
    "                                                  #   by next boosted tree.\n",
    "                                                  # See this answer in stackoverflow:\n",
    "                                                  # https://stats.stackexchange.com/questions/354484/why-does-xgboost-have-a-learning-rate\n",
    "                                                  # Coefficients of boosted trees decide,\n",
    "                                                  #  in the overall model or scheme, how much importance\n",
    "                                                  #   each boosted tree shall have. Values of these\n",
    "                                                  #    Coefficients are calculated by modeling\n",
    "                                                  #     algorithm and unlike learning rate are\n",
    "                                                  #      not hyperparameters. These Coefficients\n",
    "                                                  #       get adjusted by l1 and l2 parameters\n",
    "              'xg__n_estimators':   [200,  300],  # Number of boosted trees to fit\n",
    "                                                  # l1 and l2 specifications will change\n",
    "                                                  # the values of coeff of boosted trees\n",
    "                                                  # but not their numbers\n",
    "\n",
    "              'xg__max_depth':      [4,6],\n",
    "              'pca__n_components' : [15,21],\n",
    "              'xg__booster': ['gbtree','gblinear']\n",
    "              }                               # Total: 2 * 2 * 2 * 2\n"
   ]
  },
  {
   "cell_type": "code",
   "execution_count": 103,
   "id": "18e6ba27",
   "metadata": {},
   "outputs": [],
   "source": [
    "parameters = {'xg__learning_rate':  [0.03, 0.05], # learning rate decides what percentage\n",
    "                                                  #  of error is to be fitted by\n",
    "                                                  #   by next boosted tree.\n",
    "                                                  # See this answer in stackoverflow:\n",
    "                                                  # https://stats.stackexchange.com/questions/354484/why-does-xgboost-have-a-learning-rate\n",
    "                                                  # Coefficients of boosted trees decide,\n",
    "                                                  #  in the overall model or scheme, how much importance\n",
    "                                                  #   each boosted tree shall have. Values of these\n",
    "                                                  #    Coefficients are calculated by modeling\n",
    "                                                  #     algorithm and unlike learning rate are\n",
    "                                                  #      not hyperparameters. These Coefficients\n",
    "                                                  #       get adjusted by l1 and l2 parameters\n",
    "               'xg__max_depth':      [4,6],\n",
    " \n",
    "              'pca__n_components' : [15,21],\n",
    "               }                               # Total: 2 * 2 * 2 * 2\n",
    "\n"
   ]
  },
  {
   "cell_type": "code",
   "execution_count": 113,
   "id": "55cc32dd",
   "metadata": {},
   "outputs": [],
   "source": [
    "from xgboost.sklearn import XGBClassifier\n",
    "from sklearn.decomposition import PCA\n",
    "from sklearn.preprocessing import StandardScaler as ss\n",
    "steps_xg = [('sts', ss() ),\n",
    "            ('pca', PCA()),\n",
    "            ('xg',  XGBClassifier(silent = False,\n",
    "                                  n_jobs=3)        # Specify other parameters here\n",
    "            )\n",
    "            ]\n",
    "pipe_xg = Pipeline(steps_xg)\n",
    "pipe_xg.get_params()\n",
    "clf = GridSearchCV(pipe_xg,            # pipeline object\n",
    "                   parameters,         # possible parameters\n",
    "                   n_jobs = 2,         # USe parallel cpu threads\n",
    "                   cv =2 ,             # No of folds\n",
    "                   verbose =1,         # Higher the value, more the verbosity\n",
    "                   scoring = ['accuracy', 'roc_auc'],  # Metrics for performance\n",
    "                   refit = 'roc_auc'   # Refitting final model on what parameters?\n",
    "                                       # Those which maximise auc\n",
    "                   )\n",
    "\n"
   ]
  },
  {
   "cell_type": "code",
   "execution_count": 117,
   "id": "aaba8224",
   "metadata": {},
   "outputs": [
    {
     "name": "stdout",
     "output_type": "stream",
     "text": [
      "\n",
      "\n",
      "--Takes time...---\n",
      "\n",
      "Fitting 2 folds for each of 8 candidates, totalling 16 fits\n"
     ]
    },
    {
     "name": "stderr",
     "output_type": "stream",
     "text": [
      "C:\\ProgramData\\Anaconda3\\lib\\site-packages\\sklearn\\model_selection\\_search.py:918: UserWarning: One or more of the test scores are non-finite: [nan nan nan nan nan nan nan nan]\n",
      "  warnings.warn(\n"
     ]
    },
    {
     "ename": "ValueError",
     "evalue": "Invalid classes inferred from unique values of `y`.  Expected: [   0    1    2 ... 2019 2020 2021], got [1.0000e-02 2.5000e+00 2.5100e+00 ... 1.9858e+02 1.9950e+02 2.0000e+02]",
     "output_type": "error",
     "traceback": [
      "\u001b[1;31m---------------------------------------------------------------------------\u001b[0m",
      "\u001b[1;31mValueError\u001b[0m                                Traceback (most recent call last)",
      "\u001b[1;32m<ipython-input-117-70c63527d083>\u001b[0m in \u001b[0;36m<module>\u001b[1;34m\u001b[0m\n\u001b[0;32m      5\u001b[0m \u001b[0mprint\u001b[0m\u001b[1;33m(\u001b[0m\u001b[1;34m\"\\n\\n--Takes time...---\\n\"\u001b[0m\u001b[1;33m)\u001b[0m\u001b[1;33m\u001b[0m\u001b[1;33m\u001b[0m\u001b[0m\n\u001b[0;32m      6\u001b[0m \u001b[0mstart\u001b[0m \u001b[1;33m=\u001b[0m \u001b[0mtime\u001b[0m\u001b[1;33m.\u001b[0m\u001b[0mtime\u001b[0m\u001b[1;33m(\u001b[0m\u001b[1;33m)\u001b[0m\u001b[1;33m\u001b[0m\u001b[1;33m\u001b[0m\u001b[0m\n\u001b[1;32m----> 7\u001b[1;33m \u001b[0mclf\u001b[0m\u001b[1;33m.\u001b[0m\u001b[0mfit\u001b[0m\u001b[1;33m(\u001b[0m\u001b[0mX_train\u001b[0m\u001b[1;33m,\u001b[0m \u001b[0my_train\u001b[0m\u001b[1;33m)\u001b[0m\u001b[1;33m\u001b[0m\u001b[1;33m\u001b[0m\u001b[0m\n\u001b[0m\u001b[0;32m      8\u001b[0m \u001b[0mend\u001b[0m \u001b[1;33m=\u001b[0m \u001b[0mtime\u001b[0m\u001b[1;33m.\u001b[0m\u001b[0mtime\u001b[0m\u001b[1;33m(\u001b[0m\u001b[1;33m)\u001b[0m\u001b[1;33m\u001b[0m\u001b[1;33m\u001b[0m\u001b[0m\n\u001b[0;32m      9\u001b[0m \u001b[0mprint\u001b[0m\u001b[1;33m(\u001b[0m\u001b[1;33m)\u001b[0m\u001b[1;33m\u001b[0m\u001b[1;33m\u001b[0m\u001b[0m\n",
      "\u001b[1;32mC:\\ProgramData\\Anaconda3\\lib\\site-packages\\sklearn\\utils\\validation.py\u001b[0m in \u001b[0;36minner_f\u001b[1;34m(*args, **kwargs)\u001b[0m\n\u001b[0;32m     61\u001b[0m             \u001b[0mextra_args\u001b[0m \u001b[1;33m=\u001b[0m \u001b[0mlen\u001b[0m\u001b[1;33m(\u001b[0m\u001b[0margs\u001b[0m\u001b[1;33m)\u001b[0m \u001b[1;33m-\u001b[0m \u001b[0mlen\u001b[0m\u001b[1;33m(\u001b[0m\u001b[0mall_args\u001b[0m\u001b[1;33m)\u001b[0m\u001b[1;33m\u001b[0m\u001b[1;33m\u001b[0m\u001b[0m\n\u001b[0;32m     62\u001b[0m             \u001b[1;32mif\u001b[0m \u001b[0mextra_args\u001b[0m \u001b[1;33m<=\u001b[0m \u001b[1;36m0\u001b[0m\u001b[1;33m:\u001b[0m\u001b[1;33m\u001b[0m\u001b[1;33m\u001b[0m\u001b[0m\n\u001b[1;32m---> 63\u001b[1;33m                 \u001b[1;32mreturn\u001b[0m \u001b[0mf\u001b[0m\u001b[1;33m(\u001b[0m\u001b[1;33m*\u001b[0m\u001b[0margs\u001b[0m\u001b[1;33m,\u001b[0m \u001b[1;33m**\u001b[0m\u001b[0mkwargs\u001b[0m\u001b[1;33m)\u001b[0m\u001b[1;33m\u001b[0m\u001b[1;33m\u001b[0m\u001b[0m\n\u001b[0m\u001b[0;32m     64\u001b[0m \u001b[1;33m\u001b[0m\u001b[0m\n\u001b[0;32m     65\u001b[0m             \u001b[1;31m# extra_args > 0\u001b[0m\u001b[1;33m\u001b[0m\u001b[1;33m\u001b[0m\u001b[1;33m\u001b[0m\u001b[0m\n",
      "\u001b[1;32mC:\\ProgramData\\Anaconda3\\lib\\site-packages\\sklearn\\model_selection\\_search.py\u001b[0m in \u001b[0;36mfit\u001b[1;34m(self, X, y, groups, **fit_params)\u001b[0m\n\u001b[0;32m    878\u001b[0m             \u001b[0mrefit_start_time\u001b[0m \u001b[1;33m=\u001b[0m \u001b[0mtime\u001b[0m\u001b[1;33m.\u001b[0m\u001b[0mtime\u001b[0m\u001b[1;33m(\u001b[0m\u001b[1;33m)\u001b[0m\u001b[1;33m\u001b[0m\u001b[1;33m\u001b[0m\u001b[0m\n\u001b[0;32m    879\u001b[0m             \u001b[1;32mif\u001b[0m \u001b[0my\u001b[0m \u001b[1;32mis\u001b[0m \u001b[1;32mnot\u001b[0m \u001b[1;32mNone\u001b[0m\u001b[1;33m:\u001b[0m\u001b[1;33m\u001b[0m\u001b[1;33m\u001b[0m\u001b[0m\n\u001b[1;32m--> 880\u001b[1;33m                 \u001b[0mself\u001b[0m\u001b[1;33m.\u001b[0m\u001b[0mbest_estimator_\u001b[0m\u001b[1;33m.\u001b[0m\u001b[0mfit\u001b[0m\u001b[1;33m(\u001b[0m\u001b[0mX\u001b[0m\u001b[1;33m,\u001b[0m \u001b[0my\u001b[0m\u001b[1;33m,\u001b[0m \u001b[1;33m**\u001b[0m\u001b[0mfit_params\u001b[0m\u001b[1;33m)\u001b[0m\u001b[1;33m\u001b[0m\u001b[1;33m\u001b[0m\u001b[0m\n\u001b[0m\u001b[0;32m    881\u001b[0m             \u001b[1;32melse\u001b[0m\u001b[1;33m:\u001b[0m\u001b[1;33m\u001b[0m\u001b[1;33m\u001b[0m\u001b[0m\n\u001b[0;32m    882\u001b[0m                 \u001b[0mself\u001b[0m\u001b[1;33m.\u001b[0m\u001b[0mbest_estimator_\u001b[0m\u001b[1;33m.\u001b[0m\u001b[0mfit\u001b[0m\u001b[1;33m(\u001b[0m\u001b[0mX\u001b[0m\u001b[1;33m,\u001b[0m \u001b[1;33m**\u001b[0m\u001b[0mfit_params\u001b[0m\u001b[1;33m)\u001b[0m\u001b[1;33m\u001b[0m\u001b[1;33m\u001b[0m\u001b[0m\n",
      "\u001b[1;32mC:\\ProgramData\\Anaconda3\\lib\\site-packages\\sklearn\\pipeline.py\u001b[0m in \u001b[0;36mfit\u001b[1;34m(self, X, y, **fit_params)\u001b[0m\n\u001b[0;32m    344\u001b[0m             \u001b[1;32mif\u001b[0m \u001b[0mself\u001b[0m\u001b[1;33m.\u001b[0m\u001b[0m_final_estimator\u001b[0m \u001b[1;33m!=\u001b[0m \u001b[1;34m'passthrough'\u001b[0m\u001b[1;33m:\u001b[0m\u001b[1;33m\u001b[0m\u001b[1;33m\u001b[0m\u001b[0m\n\u001b[0;32m    345\u001b[0m                 \u001b[0mfit_params_last_step\u001b[0m \u001b[1;33m=\u001b[0m \u001b[0mfit_params_steps\u001b[0m\u001b[1;33m[\u001b[0m\u001b[0mself\u001b[0m\u001b[1;33m.\u001b[0m\u001b[0msteps\u001b[0m\u001b[1;33m[\u001b[0m\u001b[1;33m-\u001b[0m\u001b[1;36m1\u001b[0m\u001b[1;33m]\u001b[0m\u001b[1;33m[\u001b[0m\u001b[1;36m0\u001b[0m\u001b[1;33m]\u001b[0m\u001b[1;33m]\u001b[0m\u001b[1;33m\u001b[0m\u001b[1;33m\u001b[0m\u001b[0m\n\u001b[1;32m--> 346\u001b[1;33m                 \u001b[0mself\u001b[0m\u001b[1;33m.\u001b[0m\u001b[0m_final_estimator\u001b[0m\u001b[1;33m.\u001b[0m\u001b[0mfit\u001b[0m\u001b[1;33m(\u001b[0m\u001b[0mXt\u001b[0m\u001b[1;33m,\u001b[0m \u001b[0my\u001b[0m\u001b[1;33m,\u001b[0m \u001b[1;33m**\u001b[0m\u001b[0mfit_params_last_step\u001b[0m\u001b[1;33m)\u001b[0m\u001b[1;33m\u001b[0m\u001b[1;33m\u001b[0m\u001b[0m\n\u001b[0m\u001b[0;32m    347\u001b[0m \u001b[1;33m\u001b[0m\u001b[0m\n\u001b[0;32m    348\u001b[0m         \u001b[1;32mreturn\u001b[0m \u001b[0mself\u001b[0m\u001b[1;33m\u001b[0m\u001b[1;33m\u001b[0m\u001b[0m\n",
      "\u001b[1;32mC:\\ProgramData\\Anaconda3\\lib\\site-packages\\xgboost\\core.py\u001b[0m in \u001b[0;36minner_f\u001b[1;34m(*args, **kwargs)\u001b[0m\n\u001b[0;32m    573\u001b[0m         \u001b[1;32mfor\u001b[0m \u001b[0mk\u001b[0m\u001b[1;33m,\u001b[0m \u001b[0marg\u001b[0m \u001b[1;32min\u001b[0m \u001b[0mzip\u001b[0m\u001b[1;33m(\u001b[0m\u001b[0msig\u001b[0m\u001b[1;33m.\u001b[0m\u001b[0mparameters\u001b[0m\u001b[1;33m,\u001b[0m \u001b[0margs\u001b[0m\u001b[1;33m)\u001b[0m\u001b[1;33m:\u001b[0m\u001b[1;33m\u001b[0m\u001b[1;33m\u001b[0m\u001b[0m\n\u001b[0;32m    574\u001b[0m             \u001b[0mkwargs\u001b[0m\u001b[1;33m[\u001b[0m\u001b[0mk\u001b[0m\u001b[1;33m]\u001b[0m \u001b[1;33m=\u001b[0m \u001b[0marg\u001b[0m\u001b[1;33m\u001b[0m\u001b[1;33m\u001b[0m\u001b[0m\n\u001b[1;32m--> 575\u001b[1;33m         \u001b[1;32mreturn\u001b[0m \u001b[0mf\u001b[0m\u001b[1;33m(\u001b[0m\u001b[1;33m**\u001b[0m\u001b[0mkwargs\u001b[0m\u001b[1;33m)\u001b[0m\u001b[1;33m\u001b[0m\u001b[1;33m\u001b[0m\u001b[0m\n\u001b[0m\u001b[0;32m    576\u001b[0m \u001b[1;33m\u001b[0m\u001b[0m\n\u001b[0;32m    577\u001b[0m     \u001b[1;32mreturn\u001b[0m \u001b[0minner_f\u001b[0m\u001b[1;33m\u001b[0m\u001b[1;33m\u001b[0m\u001b[0m\n",
      "\u001b[1;32mC:\\ProgramData\\Anaconda3\\lib\\site-packages\\xgboost\\sklearn.py\u001b[0m in \u001b[0;36mfit\u001b[1;34m(self, X, y, sample_weight, base_margin, eval_set, eval_metric, early_stopping_rounds, verbose, xgb_model, sample_weight_eval_set, base_margin_eval_set, feature_weights, callbacks)\u001b[0m\n\u001b[0;32m   1355\u001b[0m             \u001b[1;32mor\u001b[0m \u001b[1;32mnot\u001b[0m \u001b[1;33m(\u001b[0m\u001b[0mself\u001b[0m\u001b[1;33m.\u001b[0m\u001b[0mclasses_\u001b[0m \u001b[1;33m==\u001b[0m \u001b[0mexpected_classes\u001b[0m\u001b[1;33m)\u001b[0m\u001b[1;33m.\u001b[0m\u001b[0mall\u001b[0m\u001b[1;33m(\u001b[0m\u001b[1;33m)\u001b[0m\u001b[1;33m\u001b[0m\u001b[1;33m\u001b[0m\u001b[0m\n\u001b[0;32m   1356\u001b[0m         ):\n\u001b[1;32m-> 1357\u001b[1;33m             raise ValueError(\n\u001b[0m\u001b[0;32m   1358\u001b[0m                 \u001b[1;34mf\"Invalid classes inferred from unique values of `y`.  \"\u001b[0m\u001b[1;33m\u001b[0m\u001b[1;33m\u001b[0m\u001b[0m\n\u001b[0;32m   1359\u001b[0m                 \u001b[1;34mf\"Expected: {expected_classes}, got {self.classes_}\"\u001b[0m\u001b[1;33m\u001b[0m\u001b[1;33m\u001b[0m\u001b[0m\n",
      "\u001b[1;31mValueError\u001b[0m: Invalid classes inferred from unique values of `y`.  Expected: [   0    1    2 ... 2019 2020 2021], got [1.0000e-02 2.5000e+00 2.5100e+00 ... 1.9858e+02 1.9950e+02 2.0000e+02]"
     ]
    }
   ],
   "source": [
    "import time\n",
    "import os\n",
    "import gc\n",
    "import random\n",
    "print(\"\\n\\n--Takes time...---\\n\")\n",
    "start = time.time()\n",
    "clf.fit(X_train, y_train)\n",
    "end = time.time()\n",
    "print()\n",
    "(end - start)/60     \n",
    "del X\n",
    "del data\n",
    "del y\n",
    "gc.collect()"
   ]
  },
  {
   "cell_type": "code",
   "execution_count": null,
   "id": "38e0ff22",
   "metadata": {},
   "outputs": [],
   "source": []
  },
  {
   "cell_type": "code",
   "execution_count": null,
   "id": "f5730ba7",
   "metadata": {},
   "outputs": [],
   "source": []
  }
 ],
 "metadata": {
  "kernelspec": {
   "display_name": "Python 3",
   "language": "python",
   "name": "python3"
  },
  "language_info": {
   "codemirror_mode": {
    "name": "ipython",
    "version": 3
   },
   "file_extension": ".py",
   "mimetype": "text/x-python",
   "name": "python",
   "nbconvert_exporter": "python",
   "pygments_lexer": "ipython3",
   "version": "3.8.8"
  }
 },
 "nbformat": 4,
 "nbformat_minor": 5
}
